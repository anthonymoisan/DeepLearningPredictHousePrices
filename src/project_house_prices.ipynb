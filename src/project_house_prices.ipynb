{
 "cells": [
  {
   "cell_type": "markdown",
   "metadata": {
    "colab_type": "text",
    "id": "view-in-github"
   },
   "source": [
    "<a href=\"https://colab.research.google.com/github/anthonymoisan/Predict_Bicycle/blob/master/src/project_bicycle.ipynb\" target=\"_parent\"><img src=\"https://colab.research.google.com/assets/colab-badge.svg\" alt=\"Open In Colab\"/></a>"
   ]
  },
  {
   "cell_type": "markdown",
   "metadata": {
    "colab_type": "text",
    "id": "lFEUgE1i6K3w"
   },
   "source": [
    "# Description du projet"
   ]
  },
  {
   "cell_type": "markdown",
   "metadata": {
    "colab_type": "text",
    "id": "T_skvWIs6K30"
   },
   "source": [
    "Le projet consiste à prévoir le prix de maisons en fonction d'un certain nombre de caractéristiques. Ce projet est issu d'un défi Kaggle que l'on peut retrouver [ici](https://www.kaggle.com/c/house-prices-advanced-regression-techniques/data \"Link to Kaggle\").\n",
    "\n",
    "L'objectif de ce projet sera :\n",
    "* de comprendre les variables explicatives et la variable cible en faisant une analyse exploratoire des données\n",
    "* de définir un premier modèle qui sera dans le cas présent une régression linéaire\n",
    "* de mettre en place un réseau de neurones\n",
    "* de faire une analyse comparative entre les deux modèles"
   ]
  },
  {
   "cell_type": "markdown",
   "metadata": {
    "colab_type": "text",
    "id": "USNdKzNc6K32"
   },
   "source": [
    "# Type de problème\n",
    "On est typiquement dans une problématique de régression dans le cas d'un apprentissage supervisé."
   ]
  },
  {
   "cell_type": "markdown",
   "metadata": {
    "colab_type": "text",
    "id": "ZLT5e_yl6K34"
   },
   "source": [
    "# Librairies"
   ]
  },
  {
   "cell_type": "code",
   "execution_count": 1,
   "metadata": {
    "ExecuteTime": {
     "end_time": "2018-01-23T21:07:13.585997Z",
     "start_time": "2018-01-23T21:07:11.883063Z"
    },
    "colab": {},
    "colab_type": "code",
    "id": "DRmOV3lP6K35"
   },
   "outputs": [],
   "source": [
    "import pandas as pd\n",
    "import numpy as np\n",
    "\n",
    "import matplotlib.pyplot as plt\n",
    "import seaborn as sns\n",
    "%matplotlib inline\n",
    "\n",
    "# impossibilité de voir l'arbre de décision à travers graphviz!pip install graphviz"
   ]
  },
  {
   "cell_type": "markdown",
   "metadata": {
    "colab_type": "text",
    "id": "HhNyIA0R6K3-"
   },
   "source": [
    "# Lecture du jeu de données\n",
    "\n"
   ]
  },
  {
   "cell_type": "markdown",
   "metadata": {
    "colab_type": "text",
    "id": "DsZ7Yktk6K3_"
   },
   "source": [
    "## Taille du jeu de données"
   ]
  },
  {
   "cell_type": "code",
   "execution_count": 2,
   "metadata": {
    "ExecuteTime": {
     "end_time": "2018-01-23T21:08:16.102718Z",
     "start_time": "2018-01-23T21:08:16.035614Z"
    },
    "colab": {
     "base_uri": "https://localhost:8080/",
     "height": 415
    },
    "colab_type": "code",
    "id": "BNiNKe1B6K4B",
    "outputId": "c447ea1b-a4eb-4311-e152-bb8f208e887e"
   },
   "outputs": [
    {
     "name": "stdout",
     "output_type": "stream",
     "text": [
      "taille du jeu de donnees : (1460, 81)\n"
     ]
    },
    {
     "data": {
      "text/html": [
       "<div>\n",
       "<style scoped>\n",
       "    .dataframe tbody tr th:only-of-type {\n",
       "        vertical-align: middle;\n",
       "    }\n",
       "\n",
       "    .dataframe tbody tr th {\n",
       "        vertical-align: top;\n",
       "    }\n",
       "\n",
       "    .dataframe thead th {\n",
       "        text-align: right;\n",
       "    }\n",
       "</style>\n",
       "<table border=\"1\" class=\"dataframe\">\n",
       "  <thead>\n",
       "    <tr style=\"text-align: right;\">\n",
       "      <th></th>\n",
       "      <th>Id</th>\n",
       "      <th>MSSubClass</th>\n",
       "      <th>MSZoning</th>\n",
       "      <th>LotFrontage</th>\n",
       "      <th>LotArea</th>\n",
       "      <th>Street</th>\n",
       "      <th>Alley</th>\n",
       "      <th>LotShape</th>\n",
       "      <th>LandContour</th>\n",
       "      <th>Utilities</th>\n",
       "      <th>...</th>\n",
       "      <th>PoolArea</th>\n",
       "      <th>PoolQC</th>\n",
       "      <th>Fence</th>\n",
       "      <th>MiscFeature</th>\n",
       "      <th>MiscVal</th>\n",
       "      <th>MoSold</th>\n",
       "      <th>YrSold</th>\n",
       "      <th>SaleType</th>\n",
       "      <th>SaleCondition</th>\n",
       "      <th>SalePrice</th>\n",
       "    </tr>\n",
       "  </thead>\n",
       "  <tbody>\n",
       "    <tr>\n",
       "      <td>0</td>\n",
       "      <td>1</td>\n",
       "      <td>60</td>\n",
       "      <td>RL</td>\n",
       "      <td>65.0</td>\n",
       "      <td>8450</td>\n",
       "      <td>Pave</td>\n",
       "      <td>NaN</td>\n",
       "      <td>Reg</td>\n",
       "      <td>Lvl</td>\n",
       "      <td>AllPub</td>\n",
       "      <td>...</td>\n",
       "      <td>0</td>\n",
       "      <td>NaN</td>\n",
       "      <td>NaN</td>\n",
       "      <td>NaN</td>\n",
       "      <td>0</td>\n",
       "      <td>2</td>\n",
       "      <td>2008</td>\n",
       "      <td>WD</td>\n",
       "      <td>Normal</td>\n",
       "      <td>208500</td>\n",
       "    </tr>\n",
       "    <tr>\n",
       "      <td>1</td>\n",
       "      <td>2</td>\n",
       "      <td>20</td>\n",
       "      <td>RL</td>\n",
       "      <td>80.0</td>\n",
       "      <td>9600</td>\n",
       "      <td>Pave</td>\n",
       "      <td>NaN</td>\n",
       "      <td>Reg</td>\n",
       "      <td>Lvl</td>\n",
       "      <td>AllPub</td>\n",
       "      <td>...</td>\n",
       "      <td>0</td>\n",
       "      <td>NaN</td>\n",
       "      <td>NaN</td>\n",
       "      <td>NaN</td>\n",
       "      <td>0</td>\n",
       "      <td>5</td>\n",
       "      <td>2007</td>\n",
       "      <td>WD</td>\n",
       "      <td>Normal</td>\n",
       "      <td>181500</td>\n",
       "    </tr>\n",
       "    <tr>\n",
       "      <td>2</td>\n",
       "      <td>3</td>\n",
       "      <td>60</td>\n",
       "      <td>RL</td>\n",
       "      <td>68.0</td>\n",
       "      <td>11250</td>\n",
       "      <td>Pave</td>\n",
       "      <td>NaN</td>\n",
       "      <td>IR1</td>\n",
       "      <td>Lvl</td>\n",
       "      <td>AllPub</td>\n",
       "      <td>...</td>\n",
       "      <td>0</td>\n",
       "      <td>NaN</td>\n",
       "      <td>NaN</td>\n",
       "      <td>NaN</td>\n",
       "      <td>0</td>\n",
       "      <td>9</td>\n",
       "      <td>2008</td>\n",
       "      <td>WD</td>\n",
       "      <td>Normal</td>\n",
       "      <td>223500</td>\n",
       "    </tr>\n",
       "    <tr>\n",
       "      <td>3</td>\n",
       "      <td>4</td>\n",
       "      <td>70</td>\n",
       "      <td>RL</td>\n",
       "      <td>60.0</td>\n",
       "      <td>9550</td>\n",
       "      <td>Pave</td>\n",
       "      <td>NaN</td>\n",
       "      <td>IR1</td>\n",
       "      <td>Lvl</td>\n",
       "      <td>AllPub</td>\n",
       "      <td>...</td>\n",
       "      <td>0</td>\n",
       "      <td>NaN</td>\n",
       "      <td>NaN</td>\n",
       "      <td>NaN</td>\n",
       "      <td>0</td>\n",
       "      <td>2</td>\n",
       "      <td>2006</td>\n",
       "      <td>WD</td>\n",
       "      <td>Abnorml</td>\n",
       "      <td>140000</td>\n",
       "    </tr>\n",
       "    <tr>\n",
       "      <td>4</td>\n",
       "      <td>5</td>\n",
       "      <td>60</td>\n",
       "      <td>RL</td>\n",
       "      <td>84.0</td>\n",
       "      <td>14260</td>\n",
       "      <td>Pave</td>\n",
       "      <td>NaN</td>\n",
       "      <td>IR1</td>\n",
       "      <td>Lvl</td>\n",
       "      <td>AllPub</td>\n",
       "      <td>...</td>\n",
       "      <td>0</td>\n",
       "      <td>NaN</td>\n",
       "      <td>NaN</td>\n",
       "      <td>NaN</td>\n",
       "      <td>0</td>\n",
       "      <td>12</td>\n",
       "      <td>2008</td>\n",
       "      <td>WD</td>\n",
       "      <td>Normal</td>\n",
       "      <td>250000</td>\n",
       "    </tr>\n",
       "    <tr>\n",
       "      <td>5</td>\n",
       "      <td>6</td>\n",
       "      <td>50</td>\n",
       "      <td>RL</td>\n",
       "      <td>85.0</td>\n",
       "      <td>14115</td>\n",
       "      <td>Pave</td>\n",
       "      <td>NaN</td>\n",
       "      <td>IR1</td>\n",
       "      <td>Lvl</td>\n",
       "      <td>AllPub</td>\n",
       "      <td>...</td>\n",
       "      <td>0</td>\n",
       "      <td>NaN</td>\n",
       "      <td>MnPrv</td>\n",
       "      <td>Shed</td>\n",
       "      <td>700</td>\n",
       "      <td>10</td>\n",
       "      <td>2009</td>\n",
       "      <td>WD</td>\n",
       "      <td>Normal</td>\n",
       "      <td>143000</td>\n",
       "    </tr>\n",
       "    <tr>\n",
       "      <td>6</td>\n",
       "      <td>7</td>\n",
       "      <td>20</td>\n",
       "      <td>RL</td>\n",
       "      <td>75.0</td>\n",
       "      <td>10084</td>\n",
       "      <td>Pave</td>\n",
       "      <td>NaN</td>\n",
       "      <td>Reg</td>\n",
       "      <td>Lvl</td>\n",
       "      <td>AllPub</td>\n",
       "      <td>...</td>\n",
       "      <td>0</td>\n",
       "      <td>NaN</td>\n",
       "      <td>NaN</td>\n",
       "      <td>NaN</td>\n",
       "      <td>0</td>\n",
       "      <td>8</td>\n",
       "      <td>2007</td>\n",
       "      <td>WD</td>\n",
       "      <td>Normal</td>\n",
       "      <td>307000</td>\n",
       "    </tr>\n",
       "    <tr>\n",
       "      <td>7</td>\n",
       "      <td>8</td>\n",
       "      <td>60</td>\n",
       "      <td>RL</td>\n",
       "      <td>NaN</td>\n",
       "      <td>10382</td>\n",
       "      <td>Pave</td>\n",
       "      <td>NaN</td>\n",
       "      <td>IR1</td>\n",
       "      <td>Lvl</td>\n",
       "      <td>AllPub</td>\n",
       "      <td>...</td>\n",
       "      <td>0</td>\n",
       "      <td>NaN</td>\n",
       "      <td>NaN</td>\n",
       "      <td>Shed</td>\n",
       "      <td>350</td>\n",
       "      <td>11</td>\n",
       "      <td>2009</td>\n",
       "      <td>WD</td>\n",
       "      <td>Normal</td>\n",
       "      <td>200000</td>\n",
       "    </tr>\n",
       "    <tr>\n",
       "      <td>8</td>\n",
       "      <td>9</td>\n",
       "      <td>50</td>\n",
       "      <td>RM</td>\n",
       "      <td>51.0</td>\n",
       "      <td>6120</td>\n",
       "      <td>Pave</td>\n",
       "      <td>NaN</td>\n",
       "      <td>Reg</td>\n",
       "      <td>Lvl</td>\n",
       "      <td>AllPub</td>\n",
       "      <td>...</td>\n",
       "      <td>0</td>\n",
       "      <td>NaN</td>\n",
       "      <td>NaN</td>\n",
       "      <td>NaN</td>\n",
       "      <td>0</td>\n",
       "      <td>4</td>\n",
       "      <td>2008</td>\n",
       "      <td>WD</td>\n",
       "      <td>Abnorml</td>\n",
       "      <td>129900</td>\n",
       "    </tr>\n",
       "    <tr>\n",
       "      <td>9</td>\n",
       "      <td>10</td>\n",
       "      <td>190</td>\n",
       "      <td>RL</td>\n",
       "      <td>50.0</td>\n",
       "      <td>7420</td>\n",
       "      <td>Pave</td>\n",
       "      <td>NaN</td>\n",
       "      <td>Reg</td>\n",
       "      <td>Lvl</td>\n",
       "      <td>AllPub</td>\n",
       "      <td>...</td>\n",
       "      <td>0</td>\n",
       "      <td>NaN</td>\n",
       "      <td>NaN</td>\n",
       "      <td>NaN</td>\n",
       "      <td>0</td>\n",
       "      <td>1</td>\n",
       "      <td>2008</td>\n",
       "      <td>WD</td>\n",
       "      <td>Normal</td>\n",
       "      <td>118000</td>\n",
       "    </tr>\n",
       "  </tbody>\n",
       "</table>\n",
       "<p>10 rows × 81 columns</p>\n",
       "</div>"
      ],
      "text/plain": [
       "   Id  MSSubClass MSZoning  LotFrontage  LotArea Street Alley LotShape  \\\n",
       "0   1          60       RL         65.0     8450   Pave   NaN      Reg   \n",
       "1   2          20       RL         80.0     9600   Pave   NaN      Reg   \n",
       "2   3          60       RL         68.0    11250   Pave   NaN      IR1   \n",
       "3   4          70       RL         60.0     9550   Pave   NaN      IR1   \n",
       "4   5          60       RL         84.0    14260   Pave   NaN      IR1   \n",
       "5   6          50       RL         85.0    14115   Pave   NaN      IR1   \n",
       "6   7          20       RL         75.0    10084   Pave   NaN      Reg   \n",
       "7   8          60       RL          NaN    10382   Pave   NaN      IR1   \n",
       "8   9          50       RM         51.0     6120   Pave   NaN      Reg   \n",
       "9  10         190       RL         50.0     7420   Pave   NaN      Reg   \n",
       "\n",
       "  LandContour Utilities  ... PoolArea PoolQC  Fence MiscFeature MiscVal  \\\n",
       "0         Lvl    AllPub  ...        0    NaN    NaN         NaN       0   \n",
       "1         Lvl    AllPub  ...        0    NaN    NaN         NaN       0   \n",
       "2         Lvl    AllPub  ...        0    NaN    NaN         NaN       0   \n",
       "3         Lvl    AllPub  ...        0    NaN    NaN         NaN       0   \n",
       "4         Lvl    AllPub  ...        0    NaN    NaN         NaN       0   \n",
       "5         Lvl    AllPub  ...        0    NaN  MnPrv        Shed     700   \n",
       "6         Lvl    AllPub  ...        0    NaN    NaN         NaN       0   \n",
       "7         Lvl    AllPub  ...        0    NaN    NaN        Shed     350   \n",
       "8         Lvl    AllPub  ...        0    NaN    NaN         NaN       0   \n",
       "9         Lvl    AllPub  ...        0    NaN    NaN         NaN       0   \n",
       "\n",
       "  MoSold YrSold  SaleType  SaleCondition  SalePrice  \n",
       "0      2   2008        WD         Normal     208500  \n",
       "1      5   2007        WD         Normal     181500  \n",
       "2      9   2008        WD         Normal     223500  \n",
       "3      2   2006        WD        Abnorml     140000  \n",
       "4     12   2008        WD         Normal     250000  \n",
       "5     10   2009        WD         Normal     143000  \n",
       "6      8   2007        WD         Normal     307000  \n",
       "7     11   2009        WD         Normal     200000  \n",
       "8      4   2008        WD        Abnorml     129900  \n",
       "9      1   2008        WD         Normal     118000  \n",
       "\n",
       "[10 rows x 81 columns]"
      ]
     },
     "execution_count": 2,
     "metadata": {},
     "output_type": "execute_result"
    }
   ],
   "source": [
    "df = pd.read_csv(\"../input/train.csv\")\n",
    "print(\"taille du jeu de donnees :\", df.shape)\n",
    "df.head(10)"
   ]
  },
  {
   "cell_type": "markdown",
   "metadata": {
    "colab_type": "text",
    "id": "W-mZ709d6K4H"
   },
   "source": [
    "On regarde les informations assez rapidement sur les variables"
   ]
  },
  {
   "cell_type": "code",
   "execution_count": 3,
   "metadata": {
    "colab": {},
    "colab_type": "code",
    "id": "v-hG6uBE6K4I",
    "outputId": "874f9873-3270-4241-84b5-e2b155d030f6",
    "scrolled": true
   },
   "outputs": [
    {
     "name": "stdout",
     "output_type": "stream",
     "text": [
      "<class 'pandas.core.frame.DataFrame'>\n",
      "RangeIndex: 1460 entries, 0 to 1459\n",
      "Data columns (total 81 columns):\n",
      "Id               1460 non-null int64\n",
      "MSSubClass       1460 non-null int64\n",
      "MSZoning         1460 non-null object\n",
      "LotFrontage      1201 non-null float64\n",
      "LotArea          1460 non-null int64\n",
      "Street           1460 non-null object\n",
      "Alley            91 non-null object\n",
      "LotShape         1460 non-null object\n",
      "LandContour      1460 non-null object\n",
      "Utilities        1460 non-null object\n",
      "LotConfig        1460 non-null object\n",
      "LandSlope        1460 non-null object\n",
      "Neighborhood     1460 non-null object\n",
      "Condition1       1460 non-null object\n",
      "Condition2       1460 non-null object\n",
      "BldgType         1460 non-null object\n",
      "HouseStyle       1460 non-null object\n",
      "OverallQual      1460 non-null int64\n",
      "OverallCond      1460 non-null int64\n",
      "YearBuilt        1460 non-null int64\n",
      "YearRemodAdd     1460 non-null int64\n",
      "RoofStyle        1460 non-null object\n",
      "RoofMatl         1460 non-null object\n",
      "Exterior1st      1460 non-null object\n",
      "Exterior2nd      1460 non-null object\n",
      "MasVnrType       1452 non-null object\n",
      "MasVnrArea       1452 non-null float64\n",
      "ExterQual        1460 non-null object\n",
      "ExterCond        1460 non-null object\n",
      "Foundation       1460 non-null object\n",
      "BsmtQual         1423 non-null object\n",
      "BsmtCond         1423 non-null object\n",
      "BsmtExposure     1422 non-null object\n",
      "BsmtFinType1     1423 non-null object\n",
      "BsmtFinSF1       1460 non-null int64\n",
      "BsmtFinType2     1422 non-null object\n",
      "BsmtFinSF2       1460 non-null int64\n",
      "BsmtUnfSF        1460 non-null int64\n",
      "TotalBsmtSF      1460 non-null int64\n",
      "Heating          1460 non-null object\n",
      "HeatingQC        1460 non-null object\n",
      "CentralAir       1460 non-null object\n",
      "Electrical       1459 non-null object\n",
      "1stFlrSF         1460 non-null int64\n",
      "2ndFlrSF         1460 non-null int64\n",
      "LowQualFinSF     1460 non-null int64\n",
      "GrLivArea        1460 non-null int64\n",
      "BsmtFullBath     1460 non-null int64\n",
      "BsmtHalfBath     1460 non-null int64\n",
      "FullBath         1460 non-null int64\n",
      "HalfBath         1460 non-null int64\n",
      "BedroomAbvGr     1460 non-null int64\n",
      "KitchenAbvGr     1460 non-null int64\n",
      "KitchenQual      1460 non-null object\n",
      "TotRmsAbvGrd     1460 non-null int64\n",
      "Functional       1460 non-null object\n",
      "Fireplaces       1460 non-null int64\n",
      "FireplaceQu      770 non-null object\n",
      "GarageType       1379 non-null object\n",
      "GarageYrBlt      1379 non-null float64\n",
      "GarageFinish     1379 non-null object\n",
      "GarageCars       1460 non-null int64\n",
      "GarageArea       1460 non-null int64\n",
      "GarageQual       1379 non-null object\n",
      "GarageCond       1379 non-null object\n",
      "PavedDrive       1460 non-null object\n",
      "WoodDeckSF       1460 non-null int64\n",
      "OpenPorchSF      1460 non-null int64\n",
      "EnclosedPorch    1460 non-null int64\n",
      "3SsnPorch        1460 non-null int64\n",
      "ScreenPorch      1460 non-null int64\n",
      "PoolArea         1460 non-null int64\n",
      "PoolQC           7 non-null object\n",
      "Fence            281 non-null object\n",
      "MiscFeature      54 non-null object\n",
      "MiscVal          1460 non-null int64\n",
      "MoSold           1460 non-null int64\n",
      "YrSold           1460 non-null int64\n",
      "SaleType         1460 non-null object\n",
      "SaleCondition    1460 non-null object\n",
      "SalePrice        1460 non-null int64\n",
      "dtypes: float64(3), int64(35), object(43)\n",
      "memory usage: 924.0+ KB\n"
     ]
    }
   ],
   "source": [
    "df.info()"
   ]
  },
  {
   "cell_type": "markdown",
   "metadata": {
    "colab_type": "text",
    "id": "nS26b5166K4N"
   },
   "source": [
    "## Gestion des variables catégorielles\n",
    "On regarde les valeurs uniques pour identifier les variables catégorielles"
   ]
  },
  {
   "cell_type": "code",
   "execution_count": 4,
   "metadata": {
    "colab": {},
    "colab_type": "code",
    "id": "T0JHeOkh6K4O",
    "outputId": "42f2033e-c577-4942-91d5-053e5f340807"
   },
   "outputs": [
    {
     "name": "stdout",
     "output_type": "stream",
     "text": [
      "Id has 1460 unique values.\n",
      "MSSubClass has 15 unique values.\n",
      "MSZoning has 5 unique values.\n",
      "LotFrontage has 111 unique values.\n",
      "LotArea has 1073 unique values.\n",
      "Street has 2 unique values.\n",
      "Alley has 3 unique values.\n",
      "LotShape has 4 unique values.\n",
      "LandContour has 4 unique values.\n",
      "Utilities has 2 unique values.\n",
      "LotConfig has 5 unique values.\n",
      "LandSlope has 3 unique values.\n",
      "Neighborhood has 25 unique values.\n",
      "Condition1 has 9 unique values.\n",
      "Condition2 has 8 unique values.\n",
      "BldgType has 5 unique values.\n",
      "HouseStyle has 8 unique values.\n",
      "OverallQual has 10 unique values.\n",
      "OverallCond has 9 unique values.\n",
      "YearBuilt has 112 unique values.\n",
      "YearRemodAdd has 61 unique values.\n",
      "RoofStyle has 6 unique values.\n",
      "RoofMatl has 8 unique values.\n",
      "Exterior1st has 15 unique values.\n",
      "Exterior2nd has 16 unique values.\n",
      "MasVnrType has 5 unique values.\n",
      "MasVnrArea has 328 unique values.\n",
      "ExterQual has 4 unique values.\n",
      "ExterCond has 5 unique values.\n",
      "Foundation has 6 unique values.\n",
      "BsmtQual has 5 unique values.\n",
      "BsmtCond has 5 unique values.\n",
      "BsmtExposure has 5 unique values.\n",
      "BsmtFinType1 has 7 unique values.\n",
      "BsmtFinSF1 has 637 unique values.\n",
      "BsmtFinType2 has 7 unique values.\n",
      "BsmtFinSF2 has 144 unique values.\n",
      "BsmtUnfSF has 780 unique values.\n",
      "TotalBsmtSF has 721 unique values.\n",
      "Heating has 6 unique values.\n",
      "HeatingQC has 5 unique values.\n",
      "CentralAir has 2 unique values.\n",
      "Electrical has 6 unique values.\n",
      "1stFlrSF has 753 unique values.\n",
      "2ndFlrSF has 417 unique values.\n",
      "LowQualFinSF has 24 unique values.\n",
      "GrLivArea has 861 unique values.\n",
      "BsmtFullBath has 4 unique values.\n",
      "BsmtHalfBath has 3 unique values.\n",
      "FullBath has 4 unique values.\n",
      "HalfBath has 3 unique values.\n",
      "BedroomAbvGr has 8 unique values.\n",
      "KitchenAbvGr has 4 unique values.\n",
      "KitchenQual has 4 unique values.\n",
      "TotRmsAbvGrd has 12 unique values.\n",
      "Functional has 7 unique values.\n",
      "Fireplaces has 4 unique values.\n",
      "FireplaceQu has 6 unique values.\n",
      "GarageType has 7 unique values.\n",
      "GarageYrBlt has 98 unique values.\n",
      "GarageFinish has 4 unique values.\n",
      "GarageCars has 5 unique values.\n",
      "GarageArea has 441 unique values.\n",
      "GarageQual has 6 unique values.\n",
      "GarageCond has 6 unique values.\n",
      "PavedDrive has 3 unique values.\n",
      "WoodDeckSF has 274 unique values.\n",
      "OpenPorchSF has 202 unique values.\n",
      "EnclosedPorch has 120 unique values.\n",
      "3SsnPorch has 20 unique values.\n",
      "ScreenPorch has 76 unique values.\n",
      "PoolArea has 8 unique values.\n",
      "PoolQC has 4 unique values.\n",
      "Fence has 5 unique values.\n",
      "MiscFeature has 5 unique values.\n",
      "MiscVal has 21 unique values.\n",
      "MoSold has 12 unique values.\n",
      "YrSold has 5 unique values.\n",
      "SaleType has 9 unique values.\n",
      "SaleCondition has 6 unique values.\n",
      "SalePrice has 663 unique values.\n"
     ]
    }
   ],
   "source": [
    "for colname, serie in df.iteritems():\n",
    "    print(colname + \" has \" + str(serie.drop_duplicates().shape[0]) + \" unique values.\")"
   ]
  },
  {
   "cell_type": "markdown",
   "metadata": {
    "colab_type": "text",
    "id": "AGPtWAfG6K4Y"
   },
   "source": [
    "A la vue du fichier de description, qui est aussi confirmée par le nombre de modalités, un certain nombre de variables peuvent être redéfinies en variables catégorielles. Initialement, on avait décidé de remettre les noms longs des modalités mais les graphiques n'étaient plus par la suite lisibles."
   ]
  },
  {
   "cell_type": "code",
   "execution_count": 5,
   "metadata": {
    "colab": {},
    "colab_type": "code",
    "id": "enau5XXG6K4Z",
    "outputId": "0dddb48b-886a-48ef-d627-44a87ade44bf"
   },
   "outputs": [],
   "source": [
    "dictMSSubClass = {\n",
    "20: '1-STORY 1946 & NEWER ALL STYLES',\n",
    "30: '1-STORY 1945 & OLDER',\n",
    "40: '1-STORY W/FINISHED ATTIC ALL AGES',\n",
    "45: '1-1/2 STORY - UNFINISHED ALL AGES',\n",
    "50: '1-1/2 STORY FINISHED ALL AGES',\n",
    "60: '2-STORY 1946 & NEWER',\n",
    "70: '2-STORY 1945 & OLDER',\n",
    "75: '2-1/2 STORY ALL AGES',\n",
    "80: 'SPLIT OR MULTI-LEVEL',\n",
    "85: 'SPLIT FOYER',\n",
    "90: 'DUPLEX - ALL STYLES AND AGES',\n",
    "120: '1-STORY PUD (Planned Unit Development) - 1946 & NEWER',\n",
    "150: '1-1/2 STORY PUD - ALL AGES',\n",
    "160: '2-STORY PUD - 1946 & NEWER',\n",
    "180: 'PUD - MULTILEVEL - INCL SPLIT LEV/FOYER',\n",
    "190: '2 FAMILY CONVERSION - ALL STYLES AND AGES'}\n",
    "\"\"\"df[\"MSSubClass\"] = pd.Categorical(df[\"MSSubClass\"], ordered=False).rename_categories(dictMSSubClass)\"\"\"\n",
    "df[\"MSSubClass\"] = pd.Categorical(df[\"MSSubClass\"], ordered=False)\n",
    "\n",
    "dictMSZoning = {\n",
    "'A': 'Agriculture',\n",
    "'C': 'Commercial',\n",
    "'FV': 'Floating Village Residential',\n",
    "'I': 'Industrial',\n",
    "'RH': 'Residential High Density',\n",
    "'RL': 'Residential Low Density',\n",
    "'RP': 'Residential Low Density Park', \n",
    "'RM': 'Residential Medium Density'\n",
    "}\n",
    "\"\"\"df[\"MSZoning\"] = pd.Categorical(df[\"MSZoning\"], ordered=False).rename_categories(dictMSZoning)\"\"\"\n",
    "df[\"MSZoning\"] = pd.Categorical(df[\"MSZoning\"], ordered=False)\n",
    "\n",
    "df[\"Street\"] = pd.Categorical(df[\"Street\"], ordered=False).rename_categories({'Grvl':'Gravel','Pave':'Paved'})\n",
    "\n",
    "df[\"Alley\"].fillna('No alley access', inplace = True)\n",
    "df[\"Alley\"] = pd.Categorical(df[\"Alley\"], ordered=False).rename_categories({'Grvl':'Gravel','Pave':'Paved'})\n",
    "\n",
    "\"\"\"df[\"LotShape\"] = pd.Categorical(df[\"LotShape\"], ordered=False).rename_categories({'Reg':'Regular', 'IR1':'Slightly irregular', 'IR2': 'Moderately Irregular', 'IR3':'Irregular'})\"\"\"\n",
    "df[\"LotShape\"] = pd.Categorical(df[\"LotShape\"], ordered=False)\n",
    "\n",
    "\"\"\"df[\"LandContour\"] = pd.Categorical(df[\"LandContour\"], ordered=False).rename_categories({'Lvl':'Near Flat/Level','Bnk':'Banked - Quick and significant rise from street grade to building','HLS':'Hillside - Significant slope from side to side','Low':'Depression'})\"\"\"\n",
    "df[\"LandContour\"] = pd.Categorical(df[\"LandContour\"], ordered=False)\n",
    "\n",
    "\"\"\"df[\"Utilities\"] = pd.Categorical(df[\"Utilities\"], ordered=False).rename_categories({'AllPub':'All public Utilities (E,G,W,& S)','NoSewr':'Electricity, Gas, and Water (Septic Tank)','NoSeWa':'Electricity and Gas Only','ELO':'Electricity only'})\"\"\"\n",
    "df[\"Utilities\"] = pd.Categorical(df[\"Utilities\"], ordered=False)\n",
    "\n",
    "\"\"\"df[\"LotConfig\"] = pd.Categorical(df[\"LotConfig\"], ordered=False).rename_categories({'Inside':'Inside lot','Corner':'Corner lot','CulDSac':'Cul-de-sac','FR2':'Frontage on 2 sides of property','FR3':'Frontage on 3 sides of property'})\"\"\"\n",
    "df[\"LotConfig\"] = pd.Categorical(df[\"LotConfig\"], ordered=False)\n",
    "\n",
    "\"\"\"df[\"LandSlope\"] = pd.Categorical(df[\"LandSlope\"], ordered=False).rename_categories({'Gtl': 'Gentle slope','Mod':'Moderate Slope','Sev':'Severe Slope'})\"\"\"\n",
    "df[\"LandSlope\"] = pd.Categorical(df[\"LandSlope\"], ordered=False)\n",
    "dictNeigh = {\n",
    "'Blmngtn':'Bloomington Heights',\n",
    "'Blueste':'Bluestem',\n",
    "'BrDale':'Briardale',\n",
    "'BrkSide':'Brookside',\n",
    "'ClearCr':'Clear Creek',\n",
    "'CollgCr':'College Creek',\n",
    "'Crawfor':'Crawford',\n",
    "'Edwards':'Edwards',\n",
    "'Gilbert':'Gilbert',\n",
    "'IDOTRR':'Iowa DOT and Rail Road',\n",
    "'MeadowV':'Meadow Village',\n",
    "'Mitchel':'Mitchell',\n",
    "'Names':'North Ames',\n",
    "'NoRidge':'Northridge',\n",
    "'NPkVill':'Northpark Villa',\n",
    "'NridgHt':'Northridge Heights',\n",
    "'NWAmes':'Northwest Ames',\n",
    "'OldTown':'Old Town',\n",
    "'SWISU':'South & West of Iowa State University',\n",
    "'Sawyer':'Sawyer',\n",
    "'SawyerW':'Sawyer West',\n",
    "'Somerst':'Somerset',\n",
    "'StoneBr':'Stone Brook',\n",
    "'Timber':'Timberland',\n",
    "'Veenker':'Veenker',\n",
    "}\n",
    "\"\"\"df[\"Neighborhood\"] = pd.Categorical(df[\"Neighborhood\"], ordered=False).rename_categories(dictNeigh)\"\"\"\n",
    "df[\"Neighborhood\"] = pd.Categorical(df[\"Neighborhood\"], ordered=False)\n",
    "\n",
    "dictCondition = {\n",
    "'Artery':'Adjacent to arterial street',\n",
    "'Feedr':'Adjacent to feeder street',\n",
    "'Norm':'Normal',\n",
    "'RRNn':'Within 200 of North-South Railroad',\n",
    "'RRAn':'Adjacent to North-South Railroad',\n",
    "'PosN':'Near positive off-site feature--park, greenbelt, etc.',\n",
    "'PosA': 'Adjacent to postive off-site feature',\n",
    "'RRNe' :'Within 200 of East-West Railroad',\n",
    "'RRAe': 'Adjacent to East-West Railroad' }\n",
    "\"\"\"df[\"Condition1\"] = pd.Categorical(df[\"Condition1\"], ordered=False).rename_categories(dictCondition)\"\"\"\n",
    "df[\"Condition1\"] = pd.Categorical(df[\"Condition1\"], ordered=False)\n",
    "\n",
    "\"\"\"df[\"Condition2\"] = pd.Categorical(df[\"Condition2\"], ordered=False).rename_categories(dictCondition)\"\"\"\n",
    "df[\"Condition2\"] = pd.Categorical(df[\"Condition2\"], ordered=False)\n",
    "\n",
    "dictTypeDwelling = {\n",
    "'1Fam':'Single-family Detached',\n",
    "'2FmCon': 'Two-family Conversion; originally built as one-family dwelling',\n",
    "'Duplx':'Duplex',\n",
    "'TwnhsE':'Townhouse End Unit',\n",
    "'TwnhsI':'Townhouse Inside Unit'}\n",
    "\n",
    "\"\"\"df[\"BldgType\"] = pd.Categorical(df[\"BldgType\"], ordered=False).rename_categories(dictTypeDwelling)\"\"\"\n",
    "df[\"BldgType\"] = pd.Categorical(df[\"BldgType\"], ordered=False)\n",
    "\n",
    "dictSytleDwelling = {\n",
    "'1Story':'One story',\n",
    "'1.5Fin':'One and one-half story: 2nd level finished',\n",
    "'1.5Unf':'One and one-half story: 2nd level unfinished',\n",
    "'2Story':'Two story',\n",
    "'2.5Fin':'Two and one-half story: 2nd level finished',\n",
    "'2.5Unf':'Two and one-half story: 2nd level unfinished',\n",
    "'SFoyer': 'Split Foyer',\n",
    "'SLvl': 'Split Level'}\n",
    "\n",
    "\"\"\"df[\"HouseStyle\"] = pd.Categorical(df[\"HouseStyle\"], ordered=False).rename_categories(dictSytleDwelling)\"\"\"\n",
    "df[\"HouseStyle\"] = pd.Categorical(df[\"HouseStyle\"], ordered=False)\n",
    "\n",
    "dictOverallQual = {\n",
    "10:'Very Excellent',\n",
    "9:'Excellent',\n",
    "8:'Very Good',\n",
    "7:'Good',\n",
    "6:'Above Average',\n",
    "5:'Average',\n",
    "4:'Below Average',\n",
    "3:'Fair',\n",
    "2:'Poor',\n",
    "1:'Very Poor'}\n",
    "\"\"\"df[\"OverallQual\"] = pd.Categorical(df[\"OverallQual\"], ordered=True).rename_categories(dictOverallQual)\"\"\"\n",
    "\"\"\"df[\"OverallCond\"] = pd.Categorical(df[\"OverallCond\"], ordered=True).rename_categories(dictOverallQual)\"\"\"\n",
    "df[\"OverallQual\"] = pd.Categorical(df[\"OverallQual\"], ordered=True)\n",
    "df[\"OverallCond\"] = pd.Categorical(df[\"OverallCond\"], ordered=True)\n",
    "\n",
    "dictRoofStyle = {\n",
    "'Flat':'Flat',\n",
    "'Gable':'Gable',\n",
    "'Gambrel':'Gabrel (Barn)',\n",
    "'Hip':'Hip',\n",
    "'Mansard':'Mansard',\n",
    "'Shed':'Shed'}\n",
    "\"\"\"df[\"RoofStyle\"] = pd.Categorical(df[\"RoofStyle\"], ordered=False).rename_categories(dictRoofStyle)\"\"\"\n",
    "df[\"RoofStyle\"] = pd.Categorical(df[\"RoofStyle\"], ordered=False)\n",
    "    \n",
    "dictRoofMatl = {\n",
    "'ClyTile': 'Clay or Tile',\n",
    "'CompShg': 'Standard (Composite) Shingle',\n",
    "'Membran': 'Membrane',\n",
    "'Metal': 'Metal',\n",
    "'Roll': 'Roll',\n",
    "'Tar&Grv': 'Gravel & Tar',\n",
    "'WdShake': 'Wood Shakes',\n",
    "'WdShngl': 'Wood Shingles'\n",
    "}\n",
    "\"\"\"df[\"RoofMatl\"] = pd.Categorical(df[\"RoofMatl\"], ordered=False).rename_categories(dictRoofMatl)\"\"\"\n",
    "df[\"RoofMatl\"] = pd.Categorical(df[\"RoofMatl\"], ordered=False)\n",
    "\n",
    "dictExterior = {\n",
    "'AsbShng': 'Asbestos Shingles',\n",
    "'AsphShn': 'Asphalt Shingles',\n",
    "'BrkComm': 'Brick Common',\n",
    "'BrkFace': 'Brick Face',\n",
    "'CBlock': 'Cinder Block',\n",
    "'CemntBd': 'Cement Board',\n",
    "'HdBoard': 'Hard Board',\n",
    "'ImStucc': 'Imitation Stucco',\n",
    "'MetalSd': 'Metal Siding',\n",
    "'Other': 'Other',\n",
    "'Plywood': 'Plywood',\n",
    "'PreCast': 'PreCast',\n",
    "'Stone': 'Stone',\n",
    "'Stucco': 'Stucco',\n",
    "'VinylSd': 'Vinyl Siding',\n",
    "'Wd Sdng': 'Wood Siding',\n",
    "'WdShing': 'Wood Shingles'\n",
    "}\n",
    "\n",
    "\"\"\"df[\"Exterior1st\"] = pd.Categorical(df[\"Exterior1st\"], ordered=False).rename_categories(dictExterior)\n",
    "df[\"Exterior2nd\"] = pd.Categorical(df[\"Exterior2nd\"], ordered=False).rename_categories(dictExterior)\"\"\"\n",
    "df[\"Exterior1st\"] = pd.Categorical(df[\"Exterior1st\"], ordered=False)\n",
    "df[\"Exterior2nd\"] = pd.Categorical(df[\"Exterior2nd\"], ordered=False)\n",
    "\n",
    "dictMasVnrType = {\n",
    "'BrkCmn':'Brick Common',\n",
    "'BrkFace':'Brick Face',\n",
    "'CBlock':'Cinder Block',\n",
    "'None':'None',\n",
    "'Stone': 'Stone'}\n",
    "\"\"\"df[\"MasVnrType\"] = pd.Categorical(df[\"MasVnrType\"], ordered=False).rename_categories(dictMasVnrType)\"\"\"\n",
    "df[\"MasVnrType\"] = pd.Categorical(df[\"MasVnrType\"], ordered=False)\n",
    "\n",
    "dictExterQual = {\n",
    "'Ex':'Excellent',\n",
    "'Gd':'Good',\n",
    "'TA':'Average/Typical',\n",
    "'Fa':'Fair',\n",
    "'Po':'Poor'}\n",
    "\"\"\"df[\"ExterQual\"] = pd.Categorical(df[\"ExterQual\"], ordered=True).rename_categories(dictExterQual)\n",
    "df[\"ExterCond\"] = pd.Categorical(df[\"ExterCond\"], ordered=True).rename_categories(dictExterQual)\"\"\"\n",
    "df[\"ExterQual\"] = pd.Categorical(df[\"ExterQual\"], ordered=True)\n",
    "df[\"ExterCond\"] = pd.Categorical(df[\"ExterCond\"], ordered=True)\n",
    "\n",
    "dictFoundation = {\n",
    "'BrkTil':'Brick & Tile',\n",
    "'CBlock': 'Cinder Block',\n",
    "'PConc': 'Poured Contrete',\n",
    "'Slab':'Slab',\n",
    "'Stone':'Stone',\n",
    "'Wood':'Wood'}\n",
    "\"\"\"df[\"Foundation\"] = pd.Categorical(df[\"Foundation\"], ordered=False).rename_categories(dictFoundation)\"\"\"\n",
    "df[\"Foundation\"] = pd.Categorical(df[\"Foundation\"], ordered=False)\n",
    "\n",
    "dictBsmtQual = {\n",
    "'Ex':'Excellent (100+ inches)',\n",
    "'Gd':'Good (90-99 inches)',\n",
    "'TA':'Typical (80-89 inches)',\n",
    "'Fa':'Fair (70-79 inches)',\n",
    "'Po':'Poor (<70 inches'}\n",
    "df[\"BsmtQual\"].fillna(\"No Basement\", inplace=True)\n",
    "\"\"\"df[\"BsmtQual\"] = pd.Categorical(df[\"BsmtQual\"], ordered=True).rename_categories(dictBsmtQual)\"\"\"\n",
    "df[\"BsmtQual\"] = pd.Categorical(df[\"BsmtQual\"], ordered=True)\n",
    "\n",
    "dictBsmtCond = {\n",
    "'Ex':'Excellent',\n",
    "'Gd':'Good',\n",
    "'TA':'Typical - slight dampness allowed',\n",
    "'Fa':'Fair - dampness or some cracking or settling',\n",
    "'Po':'Poor - Severe cracking, settling, or wetness'}\n",
    "df[\"BsmtCond\"].fillna(\"No Basement\", inplace=True)\n",
    "\"\"\"df[\"BsmtCond\"] = pd.Categorical(df[\"BsmtCond\"], ordered=True).rename_categories(dictBsmtCond)\"\"\"\n",
    "df[\"BsmtCond\"] = pd.Categorical(df[\"BsmtCond\"], ordered=True)\n",
    "\n",
    "dictBsmtExposure = {\n",
    "'Gd':'Good Exposure',\n",
    "'Av':'Average Exposure (split levels or foyers typically score average or above)',\n",
    "'Mn':'Mimimum Exposure',\n",
    "'No': 'No Exposure'}\n",
    "df[\"BsmtExposure\"].fillna(\"No Basement\", inplace=True)\n",
    "\"\"\"df[\"BsmtExposure\"] = pd.Categorical(df[\"BsmtExposure\"], ordered=True).rename_categories(dictBsmtExposure)\"\"\"\n",
    "df[\"BsmtExposure\"] = pd.Categorical(df[\"BsmtExposure\"], ordered=True)\n",
    "\n",
    "dictBsmtFinType = {\n",
    "'GLQ':'Good Living Quarters',\n",
    "'ALQ':'Average Living Quarters',\n",
    "'BLQ':'Below Average Living Quarters',\n",
    "'Rec':'Average Rec Room',\n",
    "'LwQ':'Low Quality',\n",
    "'Unf':'Unfinshed'}\n",
    "df[\"BsmtFinType1\"].fillna(\"No Basement\", inplace=True)\n",
    "df[\"BsmtFinType2\"].fillna(\"No Basement\", inplace=True)\n",
    "\"\"\"df[\"BsmtFinType1\"] = pd.Categorical(df[\"BsmtFinType1\"], ordered=True).rename_categories(dictBsmtFinType)\n",
    "df[\"BsmtFinType2\"] = pd.Categorical(df[\"BsmtFinType2\"], ordered=True).rename_categories(dictBsmtFinType)\"\"\"\n",
    "df[\"BsmtFinType1\"] = pd.Categorical(df[\"BsmtFinType1\"], ordered=True)\n",
    "df[\"BsmtFinType2\"] = pd.Categorical(df[\"BsmtFinType2\"], ordered=True)\n",
    "\n",
    "dictHeating = {\n",
    "'Floor':'Floor Furnace',\n",
    "'GasA':'Gas forced warm air furnace',\n",
    "'GasW':'Gas hot water or steam heat',\n",
    "'Grav':'Gravity furnace',\n",
    "'OthW':'Hot water or steam heat other than gas',\n",
    "'Wall':'Wall furnace'}\n",
    "\"\"\"df[\"Heating\"] = pd.Categorical(df[\"Heating\"], ordered=False).rename_categories(dictHeating)\"\"\"\n",
    "df[\"Heating\"] = pd.Categorical(df[\"Heating\"], ordered=False)\n",
    "\n",
    "dictHeatingQC = {\n",
    "'Ex':'Excellent',\n",
    "'Gd':'Good',\n",
    "'TA':'Average/Typical',\n",
    "'Fa':'Fair',\n",
    "'Po':'Poor'}\n",
    "\"\"\"df[\"HeatingQC\"] = pd.Categorical(df[\"HeatingQC\"], ordered=True).rename_categories(dictHeatingQC)\"\"\"\n",
    "df[\"HeatingQC\"] = pd.Categorical(df[\"HeatingQC\"], ordered=True)\n",
    "\n",
    "df[\"CentralAir\"] = pd.Categorical(df[\"CentralAir\"], ordered=False).rename_categories({'N': 'No', 'Y':'Yes'})\n",
    "\n",
    "dictElectrical = {\n",
    "'SBrkr':'Standard Circuit Breakers & Romex',\n",
    "'FuseA': 'Fuse Box over 60 AMP and all Romex wiring (Average)',\n",
    "'FuseF': '60 AMP Fuse Box and mostly Romex wiring (Fair)',\n",
    "'FuseP': '60 AMP Fuse Box and mostly knob & tube wiring (poor)',\n",
    "'Mix':'Mixed'}\n",
    "\"\"\"df[\"Electrical\"] = pd.Categorical(df[\"Electrical\"], ordered=False).rename_categories(dictElectrical)\"\"\"\n",
    "df[\"Electrical\"] = pd.Categorical(df[\"Electrical\"], ordered=False)\n",
    "\n",
    "dictKitchenQual = {\n",
    "'Ex':'Excellent',\n",
    "'Gd':'Good',\n",
    "'TA':'Typical/Average',\n",
    "'Fa':'Fair',\n",
    "'Po':'Poor'}\n",
    "\"\"\"df[\"KitchenQual\"] = pd.Categorical(df[\"KitchenQual\"], ordered=True).rename_categories(dictKitchenQual)\"\"\"\n",
    "df[\"KitchenQual\"] = pd.Categorical(df[\"KitchenQual\"], ordered=True)\n",
    "\n",
    "dictFunctional = {\n",
    "'Typ':'Typical Functionality',\n",
    "'Min1':'Minor Deductions 1',\n",
    "'Min2':'Minor Deductions 2',\n",
    "'Mod':'Moderate Deductions',\n",
    "'Maj1':'Major Deductions 1',\n",
    "'Maj2':'Major Deductions 2',\n",
    "'Sev':'Severely Damaged',\n",
    "'Sal':'Salvage only'}\n",
    "\"\"\"df[\"Functional\"] = pd.Categorical(df[\"Functional\"], ordered=True).rename_categories(dictFunctional)\"\"\"\n",
    "df[\"Functional\"] = pd.Categorical(df[\"Functional\"], ordered=True)\n",
    "\n",
    "dictFireplaceQu = {\n",
    "'Ex':'Excellent - Exceptional Masonry Fireplace',\n",
    "'Gd':'Good - Masonry Fireplace in main level',\n",
    "'TA':'Average - Prefabricated Fireplace in main living area or Masonry Fireplace in basement',\n",
    "'Fa':'Fair - Prefabricated Fireplace in basement',\n",
    "'Po':'Poor - Ben Franklin Stove'}\n",
    "df[\"FireplaceQu\"].fillna(\"No Fireplace\", inplace=True)\n",
    "\"\"\"df[\"FireplaceQu\"] = pd.Categorical(df[\"FireplaceQu\"], ordered=True).rename_categories(dictFireplaceQu)\"\"\"\n",
    "df[\"FireplaceQu\"] = pd.Categorical(df[\"FireplaceQu\"], ordered=True)\n",
    "\n",
    "dictGarageType = {\n",
    "'2Types':'More than one type of garage',\n",
    "'Attchd':'Attached to home',\n",
    "'Basment':'Basement Garage',\n",
    "'BuiltIn':'Built-In (Garage part of house - typically has room above garage)',\n",
    "'CarPort':'Car Port',\n",
    "'Detchd':'Detached from home'}\n",
    "df[\"GarageType\"].fillna(\"No Garage\", inplace=True)\n",
    "\"\"\"df[\"GarageType\"] = pd.Categorical(df[\"GarageType\"], ordered=False).rename_categories(dictGarageType)\"\"\"\n",
    "df[\"GarageType\"] = pd.Categorical(df[\"GarageType\"], ordered=False)\n",
    "\n",
    "dictGarageFinish = {\n",
    "'Fin':'Finished',\n",
    "'RFn':'Rough Finished',\n",
    "'Unf':'Unfinished'}\n",
    "df[\"GarageFinish\"].fillna(\"No Garage\", inplace=True)\n",
    "\"\"\"df[\"GarageFinish\"] = pd.Categorical(df[\"GarageFinish\"], ordered=False).rename_categories(dictGarageFinish)\"\"\"\n",
    "df[\"GarageFinish\"] = pd.Categorical(df[\"GarageFinish\"], ordered=False)\n",
    "\n",
    "dictGarageQual = {\n",
    "'Ex':'Excellent',\n",
    "'Gd':'Good',\n",
    "'TA':'Typical/Average',\n",
    "'Fa':'Fair',\n",
    "'Po':'Poor'}\n",
    "df[\"GarageQual\"].fillna(\"No Garage\", inplace=True)\n",
    "df[\"GarageCond\"].fillna(\"No Garage\", inplace=True)\n",
    "\"\"\"df[\"GarageQual\"] = pd.Categorical(df[\"GarageQual\"], ordered=True).rename_categories(dictGarageQual)\n",
    "df[\"GarageCond\"] = pd.Categorical(df[\"GarageCond\"], ordered=True).rename_categories(dictGarageQual)\"\"\"\n",
    "df[\"GarageQual\"] = pd.Categorical(df[\"GarageQual\"], ordered=True)\n",
    "df[\"GarageCond\"] = pd.Categorical(df[\"GarageCond\"], ordered=True)\n",
    "\n",
    "df[\"PavedDrive\"] = pd.Categorical(df[\"PavedDrive\"], ordered=False).rename_categories({'Y':'Paved','P':'Partial Pavement','N':'Dirt/Gravel'})\n",
    "\n",
    "dictPoolQC = {\n",
    "'Ex':'Excellent',\n",
    "'Gd':'Good',\n",
    "'TA':'Average/Typical',\n",
    "'Fa':'Fair'}\n",
    "df[\"PoolQC\"].fillna(\"No Pool\", inplace=True)\n",
    "\"\"\"df[\"PoolQC\"] = pd.Categorical(df[\"PoolQC\"], ordered=True).rename_categories(dictPoolQC)\"\"\"\n",
    "df[\"PoolQC\"] = pd.Categorical(df[\"PoolQC\"], ordered=True)\n",
    "\n",
    "dictFence = {\n",
    "'GdPrv': 'Good Privacy',\n",
    "'MnPrv': 'Minimum Privacy',\n",
    "'GdWo': 'Good Wood',\n",
    "'MnWw': 'Minimum Wood/Wire'}\n",
    "df[\"Fence\"].fillna(\"No Fence\", inplace = True)\n",
    "\"\"\"df[\"Fence\"] = pd.Categorical(df[\"Fence\"], ordered=False).rename_categories(dictFence)\"\"\"\n",
    "df[\"Fence\"] = pd.Categorical(df[\"Fence\"], ordered=False)\n",
    "\n",
    "dictMiscFeature = {\n",
    "'Elev':'Elevator',\n",
    "'Gar2':'2nd Garage (if not described in garage section)',\n",
    "'Othr':'Other',\n",
    "'Shed':'Shed (over 100 SF)',\n",
    "'TenC':'Tennis Court'}\n",
    "df[\"MiscFeature\"].fillna('None', inplace = True)\n",
    "\"\"\"df[\"MiscFeature\"] = pd.Categorical(df[\"MiscFeature\"], ordered=False).rename_categories(dictMiscFeature)\"\"\"\n",
    "df[\"MiscFeature\"] = pd.Categorical(df[\"MiscFeature\"], ordered=False)\n",
    "\n",
    "dictSaleType = {\n",
    "'WD':'Warranty Deed - Conventional',\n",
    "'CWD':'Warranty Deed - Cash',\n",
    "'VWD':'Warranty Deed - VA Loan',\n",
    "'New':'Home just constructed and sold',\n",
    "'COD':'Court Officer Deed/Estate',\n",
    "'Con':'Contract 15% Down payment regular terms',\n",
    "'ConLw':'Contract Low Down payment and low interest',\n",
    "'ConLI':'Contract Low Interest',\n",
    "'ConLD':'Contract Low Down',\n",
    "'Oth':'Other'\n",
    "}\n",
    "\"\"\"df[\"SaleType\"] = pd.Categorical(df[\"SaleType\"], ordered=False).rename_categories(dictSaleType)\"\"\"\n",
    "df[\"SaleType\"] = pd.Categorical(df[\"SaleType\"], ordered=False)\n",
    "\n",
    "dictSaleCondition = {\n",
    "'Normal':'Normal Sale',\n",
    "'Abnorml':'Abnormal Sale -  trade, foreclosure, short sale',\n",
    "'AdjLand':'Adjoining Land Purchase',\n",
    "'Alloca':'Allocation - two linked properties with separate deeds, typically condo with a garage unit',\n",
    "'Family':'Sale between family members',\n",
    "'Partial':'Home was not completed when last assessed (associated with New Homes)'}\n",
    "\"\"\"df[\"SaleCondition\"] = pd.Categorical(df[\"SaleCondition\"], ordered=False).rename_categories(dictSaleCondition)\"\"\"\n",
    "df[\"SaleCondition\"] = pd.Categorical(df[\"SaleCondition\"], ordered=False)"
   ]
  },
  {
   "cell_type": "code",
   "execution_count": 6,
   "metadata": {
    "colab": {},
    "colab_type": "code",
    "id": "LVtQK-wU6K4e",
    "outputId": "4aadbf83-d52e-4d55-9c10-fe299d932531"
   },
   "outputs": [
    {
     "name": "stdout",
     "output_type": "stream",
     "text": [
      "<class 'pandas.core.frame.DataFrame'>\n",
      "RangeIndex: 1460 entries, 0 to 1459\n",
      "Data columns (total 81 columns):\n",
      "Id               1460 non-null int64\n",
      "MSSubClass       1460 non-null category\n",
      "MSZoning         1460 non-null category\n",
      "LotFrontage      1201 non-null float64\n",
      "LotArea          1460 non-null int64\n",
      "Street           1460 non-null category\n",
      "Alley            1460 non-null category\n",
      "LotShape         1460 non-null category\n",
      "LandContour      1460 non-null category\n",
      "Utilities        1460 non-null category\n",
      "LotConfig        1460 non-null category\n",
      "LandSlope        1460 non-null category\n",
      "Neighborhood     1460 non-null category\n",
      "Condition1       1460 non-null category\n",
      "Condition2       1460 non-null category\n",
      "BldgType         1460 non-null category\n",
      "HouseStyle       1460 non-null category\n",
      "OverallQual      1460 non-null category\n",
      "OverallCond      1460 non-null category\n",
      "YearBuilt        1460 non-null int64\n",
      "YearRemodAdd     1460 non-null int64\n",
      "RoofStyle        1460 non-null category\n",
      "RoofMatl         1460 non-null category\n",
      "Exterior1st      1460 non-null category\n",
      "Exterior2nd      1460 non-null category\n",
      "MasVnrType       1452 non-null category\n",
      "MasVnrArea       1452 non-null float64\n",
      "ExterQual        1460 non-null category\n",
      "ExterCond        1460 non-null category\n",
      "Foundation       1460 non-null category\n",
      "BsmtQual         1460 non-null category\n",
      "BsmtCond         1460 non-null category\n",
      "BsmtExposure     1460 non-null category\n",
      "BsmtFinType1     1460 non-null category\n",
      "BsmtFinSF1       1460 non-null int64\n",
      "BsmtFinType2     1460 non-null category\n",
      "BsmtFinSF2       1460 non-null int64\n",
      "BsmtUnfSF        1460 non-null int64\n",
      "TotalBsmtSF      1460 non-null int64\n",
      "Heating          1460 non-null category\n",
      "HeatingQC        1460 non-null category\n",
      "CentralAir       1460 non-null category\n",
      "Electrical       1459 non-null category\n",
      "1stFlrSF         1460 non-null int64\n",
      "2ndFlrSF         1460 non-null int64\n",
      "LowQualFinSF     1460 non-null int64\n",
      "GrLivArea        1460 non-null int64\n",
      "BsmtFullBath     1460 non-null int64\n",
      "BsmtHalfBath     1460 non-null int64\n",
      "FullBath         1460 non-null int64\n",
      "HalfBath         1460 non-null int64\n",
      "BedroomAbvGr     1460 non-null int64\n",
      "KitchenAbvGr     1460 non-null int64\n",
      "KitchenQual      1460 non-null category\n",
      "TotRmsAbvGrd     1460 non-null int64\n",
      "Functional       1460 non-null category\n",
      "Fireplaces       1460 non-null int64\n",
      "FireplaceQu      1460 non-null category\n",
      "GarageType       1460 non-null category\n",
      "GarageYrBlt      1379 non-null float64\n",
      "GarageFinish     1460 non-null category\n",
      "GarageCars       1460 non-null int64\n",
      "GarageArea       1460 non-null int64\n",
      "GarageQual       1460 non-null category\n",
      "GarageCond       1460 non-null category\n",
      "PavedDrive       1460 non-null category\n",
      "WoodDeckSF       1460 non-null int64\n",
      "OpenPorchSF      1460 non-null int64\n",
      "EnclosedPorch    1460 non-null int64\n",
      "3SsnPorch        1460 non-null int64\n",
      "ScreenPorch      1460 non-null int64\n",
      "PoolArea         1460 non-null int64\n",
      "PoolQC           1460 non-null category\n",
      "Fence            1460 non-null category\n",
      "MiscFeature      1460 non-null category\n",
      "MiscVal          1460 non-null int64\n",
      "MoSold           1460 non-null int64\n",
      "YrSold           1460 non-null int64\n",
      "SaleType         1460 non-null category\n",
      "SaleCondition    1460 non-null category\n",
      "SalePrice        1460 non-null int64\n",
      "dtypes: category(46), float64(3), int64(32)\n",
      "memory usage: 477.6 KB\n"
     ]
    }
   ],
   "source": [
    "df.info()"
   ]
  },
  {
   "cell_type": "markdown",
   "metadata": {},
   "source": [
    "Les données semblent correctement typées."
   ]
  },
  {
   "cell_type": "markdown",
   "metadata": {},
   "source": [
    "L'analyse sommaire des données permet de voir les éléments suivants :\n",
    "\n",
    "* le premier champs est un identifiant numérique\n",
    "\n",
    "![Identifiant](../img/identifiant.png)\n",
    "\n",
    "* on a ensuite des champs permettant de caractériser **la localisation et les caractéristiques de la propriété**\n",
    "\n",
    "![Localisation](../img/Localisation.png)\n",
    "\n",
    "* on a des champs définissant ensuite des **informations générales sur la construction**\n",
    "\n",
    "![Informations générales](../img/infos.png)\n",
    "\n",
    "* on a des champs décrivant **la toiture, l'emprise au sol, le sous-sol**\n",
    "\n",
    "![Exterieur](../img/Exterieur.png)\n",
    "\n",
    "* on a des champs décrivant les **accès aux commodités** (électrique, chauffage, air conditioné...)\n",
    "\n",
    "![Commodites](../img/Commodites.png)\n",
    "\n",
    "* on a des champs décrivant la **maison au-dessus du sous-sol**\n",
    "\n",
    "![Interieur](../img/Interieur.png)\n",
    "\n",
    "* on a des champs décrivant des **commodités spéciales (piscines, vérandas) et le garage**\n",
    "\n",
    "![GarageExterieur](../img/GaragesEtExterieur.png)\n",
    "\n",
    "* on a enfin des champs décrivant les **caractéristiques de la vente**\n",
    "\n",
    "![Vente](../img/Vente.png)\n",
    "\n",
    "\n"
   ]
  },
  {
   "cell_type": "markdown",
   "metadata": {
    "colab_type": "text",
    "id": "nf6RmXOM6K41"
   },
   "source": [
    "# Exploration"
   ]
  },
  {
   "cell_type": "markdown",
   "metadata": {
    "colab_type": "text",
    "id": "29aqqL6o6K42"
   },
   "source": [
    "## Valeurs manquantes"
   ]
  },
  {
   "cell_type": "code",
   "execution_count": 7,
   "metadata": {
    "colab": {},
    "colab_type": "code",
    "id": "skPsGBzL6K44",
    "outputId": "fe857e12-2256-4274-930c-c46ba7a37667",
    "scrolled": true
   },
   "outputs": [
    {
     "data": {
      "text/html": [
       "<div>\n",
       "<style scoped>\n",
       "    .dataframe tbody tr th:only-of-type {\n",
       "        vertical-align: middle;\n",
       "    }\n",
       "\n",
       "    .dataframe tbody tr th {\n",
       "        vertical-align: top;\n",
       "    }\n",
       "\n",
       "    .dataframe thead th {\n",
       "        text-align: right;\n",
       "    }\n",
       "</style>\n",
       "<table border=\"1\" class=\"dataframe\">\n",
       "  <thead>\n",
       "    <tr style=\"text-align: right;\">\n",
       "      <th></th>\n",
       "      <th>Total</th>\n",
       "      <th>Percent</th>\n",
       "    </tr>\n",
       "  </thead>\n",
       "  <tbody>\n",
       "    <tr>\n",
       "      <td>LotFrontage</td>\n",
       "      <td>259</td>\n",
       "      <td>0.177397</td>\n",
       "    </tr>\n",
       "    <tr>\n",
       "      <td>GarageYrBlt</td>\n",
       "      <td>81</td>\n",
       "      <td>0.055479</td>\n",
       "    </tr>\n",
       "    <tr>\n",
       "      <td>MasVnrType</td>\n",
       "      <td>8</td>\n",
       "      <td>0.005479</td>\n",
       "    </tr>\n",
       "    <tr>\n",
       "      <td>MasVnrArea</td>\n",
       "      <td>8</td>\n",
       "      <td>0.005479</td>\n",
       "    </tr>\n",
       "    <tr>\n",
       "      <td>Electrical</td>\n",
       "      <td>1</td>\n",
       "      <td>0.000685</td>\n",
       "    </tr>\n",
       "    <tr>\n",
       "      <td>SalePrice</td>\n",
       "      <td>0</td>\n",
       "      <td>0.000000</td>\n",
       "    </tr>\n",
       "    <tr>\n",
       "      <td>ExterCond</td>\n",
       "      <td>0</td>\n",
       "      <td>0.000000</td>\n",
       "    </tr>\n",
       "    <tr>\n",
       "      <td>RoofStyle</td>\n",
       "      <td>0</td>\n",
       "      <td>0.000000</td>\n",
       "    </tr>\n",
       "    <tr>\n",
       "      <td>RoofMatl</td>\n",
       "      <td>0</td>\n",
       "      <td>0.000000</td>\n",
       "    </tr>\n",
       "    <tr>\n",
       "      <td>Exterior1st</td>\n",
       "      <td>0</td>\n",
       "      <td>0.000000</td>\n",
       "    </tr>\n",
       "  </tbody>\n",
       "</table>\n",
       "</div>"
      ],
      "text/plain": [
       "             Total   Percent\n",
       "LotFrontage    259  0.177397\n",
       "GarageYrBlt     81  0.055479\n",
       "MasVnrType       8  0.005479\n",
       "MasVnrArea       8  0.005479\n",
       "Electrical       1  0.000685\n",
       "SalePrice        0  0.000000\n",
       "ExterCond        0  0.000000\n",
       "RoofStyle        0  0.000000\n",
       "RoofMatl         0  0.000000\n",
       "Exterior1st      0  0.000000"
      ]
     },
     "execution_count": 7,
     "metadata": {},
     "output_type": "execute_result"
    }
   ],
   "source": [
    "# Nombre de valeurs manquantes par variable\n",
    "total = df.isnull().sum().sort_values(ascending=False)\n",
    "percent = (df.isnull().sum()/df.isnull().count()).sort_values(ascending=False)\n",
    "missing_data = pd.concat([total, percent], axis=1, keys=['Total', 'Percent'])\n",
    "missing_data.head(10)"
   ]
  },
  {
   "cell_type": "markdown",
   "metadata": {
    "colab_type": "text",
    "id": "Om8zqBj46K49"
   },
   "source": [
    "On peut observer que les variables n'ont pas de données manquantes. On peut peut-être considérer un petit problème avec la variable LotFrontage avec une complétion à 83% mais non dramatique."
   ]
  },
  {
   "cell_type": "markdown",
   "metadata": {
    "colab_type": "text",
    "id": "P-w6YH326K4-"
   },
   "source": [
    "## Exploration univariée\n",
    "\n",
    "### La variable cible"
   ]
  },
  {
   "cell_type": "markdown",
   "metadata": {
    "colab_type": "text",
    "id": "y272Ce0z6K5A"
   },
   "source": [
    "On va regarder la distribution de notre variable à expliquer à savoir le prix des logements."
   ]
  },
  {
   "cell_type": "code",
   "execution_count": 8,
   "metadata": {
    "colab": {},
    "colab_type": "code",
    "id": "gmmx4ArJ6K5B",
    "outputId": "dd10514d-4d20-4b0c-c943-3d5b4216f45e"
   },
   "outputs": [
    {
     "data": {
      "text/plain": [
       "count      1460.000000\n",
       "mean     180921.195890\n",
       "std       79442.502883\n",
       "min       34900.000000\n",
       "25%      129975.000000\n",
       "50%      163000.000000\n",
       "75%      214000.000000\n",
       "max      755000.000000\n",
       "Name: SalePrice, dtype: float64"
      ]
     },
     "execution_count": 8,
     "metadata": {},
     "output_type": "execute_result"
    }
   ],
   "source": [
    "df['SalePrice'].describe()"
   ]
  },
  {
   "cell_type": "code",
   "execution_count": 9,
   "metadata": {
    "colab": {},
    "colab_type": "code",
    "id": "JpRkdr7e6K5G",
    "outputId": "28aad2e1-fcaa-43fb-c6b4-2d2a8f0d5a69"
   },
   "outputs": [
    {
     "data": {
      "image/png": "[encoded data removed]",
      "text/plain": [
       "<Figure size 432x288 with 1 Axes>"
      ]
     },
     "metadata": {
      "needs_background": "light"
     },
     "output_type": "display_data"
    }
   ],
   "source": [
    "df[\"SalePrice\"].hist(bins=100)\n",
    "plt.title(\"Distribution des prix des maisons\")\n",
    "plt.xlabel(\"# Prix\")\n",
    "plt.ylabel(\"Effectif\")\n",
    "plt.show()"
   ]
  },
  {
   "cell_type": "markdown",
   "metadata": {
    "colab_type": "text",
    "id": "1LLCWuu56K5L"
   },
   "source": [
    "La cible de notre modèle s'apparente à une log-normale. Elle a pour moyenne 181 K et un écart type de l'ordre de 80 K avec une plage de valeurs compris entre 35 K et 755 K."
   ]
  },
  {
   "cell_type": "markdown",
   "metadata": {},
   "source": [
    "### Les autres variables numériques"
   ]
  },
  {
   "cell_type": "code",
   "execution_count": 10,
   "metadata": {},
   "outputs": [
    {
     "data": {
      "text/html": [
       "<div>\n",
       "<style scoped>\n",
       "    .dataframe tbody tr th:only-of-type {\n",
       "        vertical-align: middle;\n",
       "    }\n",
       "\n",
       "    .dataframe tbody tr th {\n",
       "        vertical-align: top;\n",
       "    }\n",
       "\n",
       "    .dataframe thead th {\n",
       "        text-align: right;\n",
       "    }\n",
       "</style>\n",
       "<table border=\"1\" class=\"dataframe\">\n",
       "  <thead>\n",
       "    <tr style=\"text-align: right;\">\n",
       "      <th></th>\n",
       "      <th>LotFrontage</th>\n",
       "      <th>LotArea</th>\n",
       "      <th>YearBuilt</th>\n",
       "      <th>YearRemodAdd</th>\n",
       "      <th>MasVnrArea</th>\n",
       "      <th>BsmtFinSF1</th>\n",
       "      <th>BsmtFinSF2</th>\n",
       "      <th>BsmtUnfSF</th>\n",
       "      <th>TotalBsmtSF</th>\n",
       "      <th>1stFlrSF</th>\n",
       "      <th>...</th>\n",
       "      <th>GarageArea</th>\n",
       "      <th>WoodDeckSF</th>\n",
       "      <th>OpenPorchSF</th>\n",
       "      <th>EnclosedPorch</th>\n",
       "      <th>3SsnPorch</th>\n",
       "      <th>ScreenPorch</th>\n",
       "      <th>PoolArea</th>\n",
       "      <th>MiscVal</th>\n",
       "      <th>MoSold</th>\n",
       "      <th>YrSold</th>\n",
       "    </tr>\n",
       "  </thead>\n",
       "  <tbody>\n",
       "    <tr>\n",
       "      <td>count</td>\n",
       "      <td>1201.000000</td>\n",
       "      <td>1460.000000</td>\n",
       "      <td>1460.000000</td>\n",
       "      <td>1460.000000</td>\n",
       "      <td>1452.000000</td>\n",
       "      <td>1460.000000</td>\n",
       "      <td>1460.000000</td>\n",
       "      <td>1460.000000</td>\n",
       "      <td>1460.000000</td>\n",
       "      <td>1460.000000</td>\n",
       "      <td>...</td>\n",
       "      <td>1460.000000</td>\n",
       "      <td>1460.000000</td>\n",
       "      <td>1460.000000</td>\n",
       "      <td>1460.000000</td>\n",
       "      <td>1460.000000</td>\n",
       "      <td>1460.000000</td>\n",
       "      <td>1460.000000</td>\n",
       "      <td>1460.000000</td>\n",
       "      <td>1460.000000</td>\n",
       "      <td>1460.000000</td>\n",
       "    </tr>\n",
       "    <tr>\n",
       "      <td>mean</td>\n",
       "      <td>70.049958</td>\n",
       "      <td>10516.828082</td>\n",
       "      <td>1971.267808</td>\n",
       "      <td>1984.865753</td>\n",
       "      <td>103.685262</td>\n",
       "      <td>443.639726</td>\n",
       "      <td>46.549315</td>\n",
       "      <td>567.240411</td>\n",
       "      <td>1057.429452</td>\n",
       "      <td>1162.626712</td>\n",
       "      <td>...</td>\n",
       "      <td>472.980137</td>\n",
       "      <td>94.244521</td>\n",
       "      <td>46.660274</td>\n",
       "      <td>21.954110</td>\n",
       "      <td>3.409589</td>\n",
       "      <td>15.060959</td>\n",
       "      <td>2.758904</td>\n",
       "      <td>43.489041</td>\n",
       "      <td>6.321918</td>\n",
       "      <td>2007.815753</td>\n",
       "    </tr>\n",
       "    <tr>\n",
       "      <td>std</td>\n",
       "      <td>24.284752</td>\n",
       "      <td>9981.264932</td>\n",
       "      <td>30.202904</td>\n",
       "      <td>20.645407</td>\n",
       "      <td>181.066207</td>\n",
       "      <td>456.098091</td>\n",
       "      <td>161.319273</td>\n",
       "      <td>441.866955</td>\n",
       "      <td>438.705324</td>\n",
       "      <td>386.587738</td>\n",
       "      <td>...</td>\n",
       "      <td>213.804841</td>\n",
       "      <td>125.338794</td>\n",
       "      <td>66.256028</td>\n",
       "      <td>61.119149</td>\n",
       "      <td>29.317331</td>\n",
       "      <td>55.757415</td>\n",
       "      <td>40.177307</td>\n",
       "      <td>496.123024</td>\n",
       "      <td>2.703626</td>\n",
       "      <td>1.328095</td>\n",
       "    </tr>\n",
       "    <tr>\n",
       "      <td>min</td>\n",
       "      <td>21.000000</td>\n",
       "      <td>1300.000000</td>\n",
       "      <td>1872.000000</td>\n",
       "      <td>1950.000000</td>\n",
       "      <td>0.000000</td>\n",
       "      <td>0.000000</td>\n",
       "      <td>0.000000</td>\n",
       "      <td>0.000000</td>\n",
       "      <td>0.000000</td>\n",
       "      <td>334.000000</td>\n",
       "      <td>...</td>\n",
       "      <td>0.000000</td>\n",
       "      <td>0.000000</td>\n",
       "      <td>0.000000</td>\n",
       "      <td>0.000000</td>\n",
       "      <td>0.000000</td>\n",
       "      <td>0.000000</td>\n",
       "      <td>0.000000</td>\n",
       "      <td>0.000000</td>\n",
       "      <td>1.000000</td>\n",
       "      <td>2006.000000</td>\n",
       "    </tr>\n",
       "    <tr>\n",
       "      <td>25%</td>\n",
       "      <td>59.000000</td>\n",
       "      <td>7553.500000</td>\n",
       "      <td>1954.000000</td>\n",
       "      <td>1967.000000</td>\n",
       "      <td>0.000000</td>\n",
       "      <td>0.000000</td>\n",
       "      <td>0.000000</td>\n",
       "      <td>223.000000</td>\n",
       "      <td>795.750000</td>\n",
       "      <td>882.000000</td>\n",
       "      <td>...</td>\n",
       "      <td>334.500000</td>\n",
       "      <td>0.000000</td>\n",
       "      <td>0.000000</td>\n",
       "      <td>0.000000</td>\n",
       "      <td>0.000000</td>\n",
       "      <td>0.000000</td>\n",
       "      <td>0.000000</td>\n",
       "      <td>0.000000</td>\n",
       "      <td>5.000000</td>\n",
       "      <td>2007.000000</td>\n",
       "    </tr>\n",
       "    <tr>\n",
       "      <td>50%</td>\n",
       "      <td>69.000000</td>\n",
       "      <td>9478.500000</td>\n",
       "      <td>1973.000000</td>\n",
       "      <td>1994.000000</td>\n",
       "      <td>0.000000</td>\n",
       "      <td>383.500000</td>\n",
       "      <td>0.000000</td>\n",
       "      <td>477.500000</td>\n",
       "      <td>991.500000</td>\n",
       "      <td>1087.000000</td>\n",
       "      <td>...</td>\n",
       "      <td>480.000000</td>\n",
       "      <td>0.000000</td>\n",
       "      <td>25.000000</td>\n",
       "      <td>0.000000</td>\n",
       "      <td>0.000000</td>\n",
       "      <td>0.000000</td>\n",
       "      <td>0.000000</td>\n",
       "      <td>0.000000</td>\n",
       "      <td>6.000000</td>\n",
       "      <td>2008.000000</td>\n",
       "    </tr>\n",
       "    <tr>\n",
       "      <td>75%</td>\n",
       "      <td>80.000000</td>\n",
       "      <td>11601.500000</td>\n",
       "      <td>2000.000000</td>\n",
       "      <td>2004.000000</td>\n",
       "      <td>166.000000</td>\n",
       "      <td>712.250000</td>\n",
       "      <td>0.000000</td>\n",
       "      <td>808.000000</td>\n",
       "      <td>1298.250000</td>\n",
       "      <td>1391.250000</td>\n",
       "      <td>...</td>\n",
       "      <td>576.000000</td>\n",
       "      <td>168.000000</td>\n",
       "      <td>68.000000</td>\n",
       "      <td>0.000000</td>\n",
       "      <td>0.000000</td>\n",
       "      <td>0.000000</td>\n",
       "      <td>0.000000</td>\n",
       "      <td>0.000000</td>\n",
       "      <td>8.000000</td>\n",
       "      <td>2009.000000</td>\n",
       "    </tr>\n",
       "    <tr>\n",
       "      <td>max</td>\n",
       "      <td>313.000000</td>\n",
       "      <td>215245.000000</td>\n",
       "      <td>2010.000000</td>\n",
       "      <td>2010.000000</td>\n",
       "      <td>1600.000000</td>\n",
       "      <td>5644.000000</td>\n",
       "      <td>1474.000000</td>\n",
       "      <td>2336.000000</td>\n",
       "      <td>6110.000000</td>\n",
       "      <td>4692.000000</td>\n",
       "      <td>...</td>\n",
       "      <td>1418.000000</td>\n",
       "      <td>857.000000</td>\n",
       "      <td>547.000000</td>\n",
       "      <td>552.000000</td>\n",
       "      <td>508.000000</td>\n",
       "      <td>480.000000</td>\n",
       "      <td>738.000000</td>\n",
       "      <td>15500.000000</td>\n",
       "      <td>12.000000</td>\n",
       "      <td>2010.000000</td>\n",
       "    </tr>\n",
       "  </tbody>\n",
       "</table>\n",
       "<p>8 rows × 33 columns</p>\n",
       "</div>"
      ],
      "text/plain": [
       "       LotFrontage        LotArea    YearBuilt  YearRemodAdd   MasVnrArea  \\\n",
       "count  1201.000000    1460.000000  1460.000000   1460.000000  1452.000000   \n",
       "mean     70.049958   10516.828082  1971.267808   1984.865753   103.685262   \n",
       "std      24.284752    9981.264932    30.202904     20.645407   181.066207   \n",
       "min      21.000000    1300.000000  1872.000000   1950.000000     0.000000   \n",
       "25%      59.000000    7553.500000  1954.000000   1967.000000     0.000000   \n",
       "50%      69.000000    9478.500000  1973.000000   1994.000000     0.000000   \n",
       "75%      80.000000   11601.500000  2000.000000   2004.000000   166.000000   \n",
       "max     313.000000  215245.000000  2010.000000   2010.000000  1600.000000   \n",
       "\n",
       "        BsmtFinSF1   BsmtFinSF2    BsmtUnfSF  TotalBsmtSF     1stFlrSF  ...  \\\n",
       "count  1460.000000  1460.000000  1460.000000  1460.000000  1460.000000  ...   \n",
       "mean    443.639726    46.549315   567.240411  1057.429452  1162.626712  ...   \n",
       "std     456.098091   161.319273   441.866955   438.705324   386.587738  ...   \n",
       "min       0.000000     0.000000     0.000000     0.000000   334.000000  ...   \n",
       "25%       0.000000     0.000000   223.000000   795.750000   882.000000  ...   \n",
       "50%     383.500000     0.000000   477.500000   991.500000  1087.000000  ...   \n",
       "75%     712.250000     0.000000   808.000000  1298.250000  1391.250000  ...   \n",
       "max    5644.000000  1474.000000  2336.000000  6110.000000  4692.000000  ...   \n",
       "\n",
       "        GarageArea   WoodDeckSF  OpenPorchSF  EnclosedPorch    3SsnPorch  \\\n",
       "count  1460.000000  1460.000000  1460.000000    1460.000000  1460.000000   \n",
       "mean    472.980137    94.244521    46.660274      21.954110     3.409589   \n",
       "std     213.804841   125.338794    66.256028      61.119149    29.317331   \n",
       "min       0.000000     0.000000     0.000000       0.000000     0.000000   \n",
       "25%     334.500000     0.000000     0.000000       0.000000     0.000000   \n",
       "50%     480.000000     0.000000    25.000000       0.000000     0.000000   \n",
       "75%     576.000000   168.000000    68.000000       0.000000     0.000000   \n",
       "max    1418.000000   857.000000   547.000000     552.000000   508.000000   \n",
       "\n",
       "       ScreenPorch     PoolArea       MiscVal       MoSold       YrSold  \n",
       "count  1460.000000  1460.000000   1460.000000  1460.000000  1460.000000  \n",
       "mean     15.060959     2.758904     43.489041     6.321918  2007.815753  \n",
       "std      55.757415    40.177307    496.123024     2.703626     1.328095  \n",
       "min       0.000000     0.000000      0.000000     1.000000  2006.000000  \n",
       "25%       0.000000     0.000000      0.000000     5.000000  2007.000000  \n",
       "50%       0.000000     0.000000      0.000000     6.000000  2008.000000  \n",
       "75%       0.000000     0.000000      0.000000     8.000000  2009.000000  \n",
       "max     480.000000   738.000000  15500.000000    12.000000  2010.000000  \n",
       "\n",
       "[8 rows x 33 columns]"
      ]
     },
     "execution_count": 10,
     "metadata": {},
     "output_type": "execute_result"
    }
   ],
   "source": [
    "df_num = df.select_dtypes(include = ['float64', 'int64'])\n",
    "df_num = df_num.drop([\"SalePrice\", \"Id\"], axis = 1)\n",
    "df_num.describe()"
   ]
  },
  {
   "cell_type": "code",
   "execution_count": 11,
   "metadata": {
    "colab": {},
    "colab_type": "code",
    "id": "HL5t6jsH6K5M",
    "outputId": "959a8f56-8c9b-4403-d365-eff4701285d5"
   },
   "outputs": [
    {
     "data": {
      "text/plain": [
       "array([[<matplotlib.axes._subplots.AxesSubplot object at 0x00000256FC7D9B88>,\n",
       "        <matplotlib.axes._subplots.AxesSubplot object at 0x00000256FC7F0C08>,\n",
       "        <matplotlib.axes._subplots.AxesSubplot object at 0x00000256FC825A48>,\n",
       "        <matplotlib.axes._subplots.AxesSubplot object at 0x00000256FC859DC8>,\n",
       "        <matplotlib.axes._subplots.AxesSubplot object at 0x00000256FC893348>,\n",
       "        <matplotlib.axes._subplots.AxesSubplot object at 0x00000256FC8CD088>],\n",
       "       [<matplotlib.axes._subplots.AxesSubplot object at 0x00000256FC8F2E88>,\n",
       "        <matplotlib.axes._subplots.AxesSubplot object at 0x00000256FC93E2C8>,\n",
       "        <matplotlib.axes._subplots.AxesSubplot object at 0x00000256FC945E48>,\n",
       "        <matplotlib.axes._subplots.AxesSubplot object at 0x00000256FC984048>,\n",
       "        <matplotlib.axes._subplots.AxesSubplot object at 0x00000256FC9E8608>,\n",
       "        <matplotlib.axes._subplots.AxesSubplot object at 0x00000256FCA24E88>],\n",
       "       [<matplotlib.axes._subplots.AxesSubplot object at 0x00000256FCA58788>,\n",
       "        <matplotlib.axes._subplots.AxesSubplot object at 0x00000256FCA928C8>,\n",
       "        <matplotlib.axes._subplots.AxesSubplot object at 0x00000256FCACB9C8>,\n",
       "        <matplotlib.axes._subplots.AxesSubplot object at 0x00000256FCB04AC8>,\n",
       "        <matplotlib.axes._subplots.AxesSubplot object at 0x00000256FCB3CBC8>,\n",
       "        <matplotlib.axes._subplots.AxesSubplot object at 0x00000256FCB75CC8>],\n",
       "       [<matplotlib.axes._subplots.AxesSubplot object at 0x00000256FCBACDC8>,\n",
       "        <matplotlib.axes._subplots.AxesSubplot object at 0x00000256FCBE6F08>,\n",
       "        <matplotlib.axes._subplots.AxesSubplot object at 0x00000256FCC22048>,\n",
       "        <matplotlib.axes._subplots.AxesSubplot object at 0x00000256FC3A6B88>,\n",
       "        <matplotlib.axes._subplots.AxesSubplot object at 0x00000256FC3CA988>,\n",
       "        <matplotlib.axes._subplots.AxesSubplot object at 0x00000256FC3B9888>],\n",
       "       [<matplotlib.axes._subplots.AxesSubplot object at 0x00000256FC7632C8>,\n",
       "        <matplotlib.axes._subplots.AxesSubplot object at 0x00000256FCC577C8>,\n",
       "        <matplotlib.axes._subplots.AxesSubplot object at 0x00000256FC6F48C8>,\n",
       "        <matplotlib.axes._subplots.AxesSubplot object at 0x00000256FC6DA908>,\n",
       "        <matplotlib.axes._subplots.AxesSubplot object at 0x00000256FCC67A08>,\n",
       "        <matplotlib.axes._subplots.AxesSubplot object at 0x00000256FCC9FB48>],\n",
       "       [<matplotlib.axes._subplots.AxesSubplot object at 0x00000256FCCD8C48>,\n",
       "        <matplotlib.axes._subplots.AxesSubplot object at 0x00000256FCD0FD48>,\n",
       "        <matplotlib.axes._subplots.AxesSubplot object at 0x00000256FCD49E48>,\n",
       "        <matplotlib.axes._subplots.AxesSubplot object at 0x00000256FCD82F48>,\n",
       "        <matplotlib.axes._subplots.AxesSubplot object at 0x00000256FCDC1148>,\n",
       "        <matplotlib.axes._subplots.AxesSubplot object at 0x00000256FCDF8348>]],\n",
       "      dtype=object)"
      ]
     },
     "execution_count": 11,
     "metadata": {},
     "output_type": "execute_result"
    },
    {
     "data": {
      "image/png": "[encoded data removed]",
      "text/plain": [
       "<Figure size 1152x1440 with 36 Axes>"
      ]
     },
     "metadata": {
      "needs_background": "light"
     },
     "output_type": "display_data"
    }
   ],
   "source": [
    "df_num.hist(figsize=(16, 20), bins=50, xlabelsize=8, ylabelsize=8)"
   ]
  },
  {
   "attachments": {},
   "cell_type": "markdown",
   "metadata": {
    "colab_type": "text",
    "id": "r9tVJrIO6K5R"
   },
   "source": [
    "On peut observer :\n",
    "* sur la **la localisation et les caractéristiques de la propriété**\n",
    "  * que les variables LotFrontage et LotArea ont une distribution de type LogNormal comme la cible\n",
    "  * que la variable LotArea a des valeurs extrêmes supérieures\n",
    "* sur les **informations générales sur la construction**\n",
    "  * des années de construction entre 1872 et 2010\n",
    "  * des années de rénovation entre 1950 et 2010\n",
    "* sur la **la toiture, l'emprise au sol, le sous-sol**\n",
    "  * que la valeur surface de maçonnerie a des valeurs extrêmes de même que les variables BsmtFinSF1 et BsmtFinSF2 \n",
    "  * que la variable TotalBsmtSF et BsmtUnfSF ont aussi une distribution de type LogNormal\n",
    "* sur les caractéristiques de la **maison au-dessus du sous-sol**\n",
    "  * que la surface habitable a une distribution de type LogNormal\n",
    "  * que la majorité des maisons ont un étage\n",
    "  * que le nombre de chambres le plus important en terme de modalités est 3\n",
    "  * des informations sur les salles de bains, douches, cheminées avec des modalités comprises entre 0 et 3\n",
    "* sur les **commodités spéciales (piscines, vérandas) et le garage**\n",
    "  * 2 places de parking est la modalité la plus présente\n",
    "  * une surface du garage qui suit aussi une loi normale\n",
    "* sur les **caractéristiques des ventes** :\n",
    "  * que les années de vente sont comprises entre 2006 et 2010, \n",
    "  * que les 12 mois sont représentés avec une gaussienne avec des ventes plus importantes sur l'été"
   ]
  },
  {
   "cell_type": "markdown",
   "metadata": {},
   "source": [
    "### Les variables catégorielles"
   ]
  },
  {
   "cell_type": "code",
   "execution_count": 12,
   "metadata": {},
   "outputs": [],
   "source": [
    "df_cat = df.select_dtypes(include = ['category'])"
   ]
  },
  {
   "cell_type": "code",
   "execution_count": 13,
   "metadata": {
    "colab": {},
    "colab_type": "code",
    "id": "3Gci5oNl6K5S",
    "outputId": "b6ae9330-b455-4f46-b02a-8a14da1488a7"
   },
   "outputs": [
    {
     "data": {
      "image/png": "[encoded data removed]",
      "text/plain": [
       "<Figure size 864x2160 with 45 Axes>"
      ]
     },
     "metadata": {
      "needs_background": "light"
     },
     "output_type": "display_data"
    }
   ],
   "source": [
    "fig, axes = plt.subplots(round(len(df_cat.columns) / 3), 3, figsize=(12, 30))\n",
    "\n",
    "for i, ax in enumerate(fig.axes):\n",
    "    if i < len(df_cat.columns):\n",
    "        ax.set_xticklabels(ax.xaxis.get_majorticklabels(), rotation=45)\n",
    "        sns.countplot(x=df_cat.columns[i], alpha=0.7, data=df_cat, ax=ax)\n",
    "\n",
    "fig.tight_layout()"
   ]
  },
  {
   "cell_type": "markdown",
   "metadata": {},
   "source": [
    "Pour un certain nombre de variables catégorielles, une modalité représente la très grande majorité de l'information. Par conséquent, les variables n'ont pas à être prises en compte dans l'analyse. On pourra ne pas considérer dans le modèle MSZoning, Street, Alley, LandContour, Utilities, LandSlope, Condition1, Condition2, BldgType, RoofMatl, BsmtCond, Heating, BsmtFinType2, CentralAir, Functional, GarageQual, GarageCond, PoolQC,MiscFeature.\n",
    "On peut observer aussi que la qualité de la finition de la maison s'apparente à une gaussienne."
   ]
  },
  {
   "cell_type": "code",
   "execution_count": 14,
   "metadata": {},
   "outputs": [
    {
     "name": "stdout",
     "output_type": "stream",
     "text": [
      "Nombre de variables catégoriques enlevées : 19\n",
      "Shape df : (1460, 62)\n"
     ]
    }
   ],
   "source": [
    "listDropCategorical = [\"MSZoning\", \"Street\", \"Alley\", \"LandContour\", \"Utilities\", \"LandSlope\", \"Condition1\", \"Condition2\", \"BldgType\", \"RoofMatl\", \"BsmtCond\", \"Heating\", \"BsmtFinType2\", \"CentralAir\", \"Functional\", \"GarageQual\", \"GarageCond\", \"PoolQC\",\"MiscFeature\"]\n",
    "print(\"Nombre de variables catégorielles enlevées : \" + str(len(listDropCategorical)))\n",
    "df = df.drop(listDropCategorical, axis = 1)\n",
    "print(\"Shape df : \" + str(df.shape))"
   ]
  },
  {
   "cell_type": "markdown",
   "metadata": {
    "colab_type": "text",
    "id": "HIj4cpdc6K7R"
   },
   "source": [
    "### Conclusion sur l'analyse univariée\n",
    "\n",
    "On a pu voir que :\n",
    "* notre cible de prix de vente suit une loi LogNormal\n",
    "* un certain nombre de variables numériques ont aussi un comportement assez similaire à notre target en termes de distribution\n",
    "* une élimination naturelle des variables catégorielles n'apportant pas d'informations."
   ]
  },
  {
   "cell_type": "markdown",
   "metadata": {
    "colab_type": "text",
    "id": "pno1sXsB6K7S"
   },
   "source": [
    "## Analyse bivariée\n",
    "\n",
    "L'analyse bivariée va consister à regarder l'influence de différentes variables sur la variable cible."
   ]
  },
  {
   "cell_type": "markdown",
   "metadata": {
    "colab_type": "text",
    "id": "cu3Oky_o6K7T"
   },
   "source": [
    "### Variable cible fonction du temps"
   ]
  },
  {
   "cell_type": "code",
   "execution_count": null,
   "metadata": {
    "colab": {},
    "colab_type": "code",
    "id": "XXXZWUJU6K7T",
    "outputId": "c1d57775-67f8-49d3-d538-22cac9cd3feb",
    "scrolled": true
   },
   "outputs": [],
   "source": [
    "sns.catplot(x=\"year\", y=\"count\", kind=\"box\", data=df)"
   ]
  },
  {
   "cell_type": "markdown",
   "metadata": {
    "colab_type": "text",
    "id": "b59FrHkx6K7X"
   },
   "source": [
    "On observe un usage plus important du service de vélo en 2012 par rapport à 2011 et des points atypiques qui doivent s'expliquer par des usages particuliers sur certaines heures au cours de l'année. "
   ]
  },
  {
   "cell_type": "code",
   "execution_count": null,
   "metadata": {
    "colab": {},
    "colab_type": "code",
    "id": "JUbcU87E6K7Y",
    "outputId": "a9fdb106-250b-4955-8799-78894c80c60a"
   },
   "outputs": [],
   "source": [
    "df.groupby(\"year\")[\"count\"].mean()"
   ]
  },
  {
   "cell_type": "code",
   "execution_count": null,
   "metadata": {
    "colab": {},
    "colab_type": "code",
    "id": "TyFdSnk96K7b",
    "outputId": "8e647286-8bc7-46e0-850d-e684d98fd51d"
   },
   "outputs": [],
   "source": [
    "df.groupby(\"year\")[\"count\"].std()"
   ]
  },
  {
   "cell_type": "markdown",
   "metadata": {
    "colab_type": "text",
    "id": "EskJSjoL6K7g"
   },
   "source": [
    "La moyenne confirme l'information de hausse entre les deux années et on peut observer une variabilité très forte sur la location horaire au cours d'une année."
   ]
  },
  {
   "cell_type": "code",
   "execution_count": null,
   "metadata": {
    "colab": {},
    "colab_type": "code",
    "id": "tT7tEapM6K7h",
    "outputId": "9602ca79-8c8c-488e-a795-97481dcb3b9d"
   },
   "outputs": [],
   "source": [
    "sns.catplot(x=\"month\", y=\"count\", kind=\"box\", data=df)"
   ]
  },
  {
   "cell_type": "markdown",
   "metadata": {
    "colab_type": "text",
    "id": "SPr3Ne0L6K7n"
   },
   "source": [
    "On observe une utilisation plus forte de l'usage des vélos sur les mois allant de Mai à Octobre. On a aussi pour chaque mois des comportements atypiques qui peuvent s'expliquer par des événements ponctuels"
   ]
  },
  {
   "cell_type": "code",
   "execution_count": null,
   "metadata": {
    "colab": {},
    "colab_type": "code",
    "id": "qOHVyFoS6K7p",
    "outputId": "148d3749-c30d-420a-ff59-762bff807e17"
   },
   "outputs": [],
   "source": [
    "df.groupby(\"month\")[\"count\"].mean()"
   ]
  },
  {
   "cell_type": "code",
   "execution_count": null,
   "metadata": {
    "colab": {},
    "colab_type": "code",
    "id": "1c4WVNhI6K7s",
    "outputId": "761729b8-3d2b-4526-d204-7364a35c2be3"
   },
   "outputs": [],
   "source": [
    "df.groupby(\"month\")[\"count\"].std()"
   ]
  },
  {
   "cell_type": "markdown",
   "metadata": {
    "colab_type": "text",
    "id": "wmv42J7q6K7v"
   },
   "source": [
    "La moyenne confirme l'interprétation en regardant les boxplot sur l'usage mensuel. On a une variabilité très forte au sein d'un mois"
   ]
  },
  {
   "cell_type": "code",
   "execution_count": null,
   "metadata": {
    "colab": {},
    "colab_type": "code",
    "id": "3qOZLpWl6K7v",
    "outputId": "139c1771-e88c-4b1d-e735-fbc785a99484"
   },
   "outputs": [],
   "source": [
    "sns.catplot(x=\"day\", y=\"count\", kind=\"box\", data=df)"
   ]
  },
  {
   "cell_type": "markdown",
   "metadata": {
    "colab_type": "text",
    "id": "Vd9Uvh0p6K7z"
   },
   "source": [
    "On ne tire pas beaucoup d'informations avec une utilisation qui semble assez homogène par jour avec des points atypiques qui s'expliquent par des événements ponctuels. Peut-être une information plus intéressante est de voir suite à retraitement des dates, si l'usage est différent entre un lundi, mardi, ... dimanche."
   ]
  },
  {
   "cell_type": "code",
   "execution_count": null,
   "metadata": {
    "colab": {},
    "colab_type": "code",
    "id": "ogK57xgW6K7z"
   },
   "outputs": [],
   "source": [
    "df[\"dayofweek\"] = df[\"datetime\"].apply(lambda x : x.weekday())\n",
    "df[\"dayofweek\"] = pd.Categorical(df[\"dayofweek\"]).rename_categories({0 : \"Monday\",1 : \"Tuesday\",2 : \"Wednesday\",3 : \"Thursday\",4 : \"Friday\", 5: \"Saturday\",6 : \"Sunday\"}) "
   ]
  },
  {
   "cell_type": "code",
   "execution_count": null,
   "metadata": {
    "colab": {},
    "colab_type": "code",
    "id": "N7KDZrKC6K72",
    "outputId": "ba43d5b7-7073-4af4-9f02-0883af1d60e0"
   },
   "outputs": [],
   "source": [
    "p = sns.catplot(x=\"dayofweek\", y=\"count\", kind=\"box\", data=df)\n",
    "p.set_xticklabels(rotation=45, rotation_mode=\"anchor\")"
   ]
  },
  {
   "cell_type": "markdown",
   "metadata": {
    "colab_type": "text",
    "id": "QERcuHaY6K76"
   },
   "source": [
    "L'intuition n'est pas vérifiée. On a une utilisation assez homogène entre les jours de la semaine avec des points atypiques"
   ]
  },
  {
   "cell_type": "code",
   "execution_count": null,
   "metadata": {
    "colab": {},
    "colab_type": "code",
    "id": "sEYcUeOb6K77",
    "outputId": "91a30a60-1f43-4f8b-99c1-507d2196da37"
   },
   "outputs": [],
   "source": [
    "sns.catplot(x=\"hour\", y=\"count\", kind=\"box\", data=df)"
   ]
  },
  {
   "cell_type": "markdown",
   "metadata": {
    "colab_type": "text",
    "id": "Bj4S-MR76K79"
   },
   "source": [
    "On observe :\n",
    "* deux pics dans la journée pour aller travailler (8h) et à la sortie du travail (18h)\n",
    "* une utilisation plus importante entre 7h et 20h que le reste de la journée\n",
    "* des locations horaires relativement faible entre 23h et 6h\n",
    "* des points atypiques surtout en journée"
   ]
  },
  {
   "cell_type": "markdown",
   "metadata": {
    "colab_type": "text",
    "id": "NT7Xpr0k6K7-"
   },
   "source": [
    "### Variables quantitatives"
   ]
  },
  {
   "cell_type": "code",
   "execution_count": null,
   "metadata": {
    "colab": {},
    "colab_type": "code",
    "id": "aNZyZ_6f6K7-",
    "outputId": "81996f4d-22d0-4d50-d810-b5da0af8b403"
   },
   "outputs": [],
   "source": [
    "fig,(ax1,ax2,ax3,ax4) = plt.subplots(ncols=4)\n",
    "fig.set_size_inches(14,10)\n",
    "sns.regplot(x=\"temp\",y=\"count\",data=df, ax=ax1)\n",
    "sns.regplot(x=\"atemp\",y=\"count\",data=df,ax=ax2)\n",
    "sns.regplot(x=\"humidity\",y=\"count\",data=df,ax=ax3)\n",
    "sns.regplot(x=\"windspeed\",y=\"count\",data=df,ax=ax4)"
   ]
  },
  {
   "cell_type": "code",
   "execution_count": null,
   "metadata": {
    "colab": {},
    "colab_type": "code",
    "id": "heWKzKny6K8B",
    "outputId": "4847e647-6b98-4a7c-dc8c-e2d5eca3b7be"
   },
   "outputs": [],
   "source": [
    "df['temp_bin']=np.floor(df['temp'])//5\n",
    "sns.catplot(x=\"temp_bin\",y=\"count\",data=df,kind='bar')"
   ]
  },
  {
   "cell_type": "markdown",
   "metadata": {
    "colab_type": "text",
    "id": "RYXPiVGG6K8E"
   },
   "source": [
    "En regroupant les températures par 5 degrés, on peut observer que la location horaire augmente en fonction de la température. Un pic est atteint enter 30 et 35°C."
   ]
  },
  {
   "cell_type": "code",
   "execution_count": null,
   "metadata": {
    "colab": {},
    "colab_type": "code",
    "id": "Qnp94aTF6K8E",
    "outputId": "c39c9d06-47df-4766-85f6-c269dcc9f35e"
   },
   "outputs": [],
   "source": [
    "df.drop(\"temp_bin\",axis=1)"
   ]
  },
  {
   "cell_type": "markdown",
   "metadata": {
    "colab_type": "text",
    "id": "v313waFf6K8H"
   },
   "source": [
    "Le nombre de vélos loués dans une heure semble évoluer positivement suivant la température réelle ou ressentie. Par contre, elle évolue négativement en fonction de l'humidité. Un élément moins intuitif est qu'elle semble aussi évoluer positivement en fonction de la force du vent."
   ]
  },
  {
   "cell_type": "code",
   "execution_count": null,
   "metadata": {
    "colab": {},
    "colab_type": "code",
    "id": "H1gqw3Rn6K8L",
    "outputId": "9ac3f02e-ef0f-4a8b-9610-fc5487300ccd"
   },
   "outputs": [],
   "source": [
    "sns.heatmap(df.corr(), cmap=\"YlOrRd\")\n",
    "plt.title(\"Corrélations des variables continues\")\n",
    "plt.show()\n",
    "df.corr()"
   ]
  },
  {
   "cell_type": "markdown",
   "metadata": {
    "colab_type": "text",
    "id": "zoPDt_Wx6K8R"
   },
   "source": [
    "On retrouve des informations identiques avec les corrélations entre les variables quantitatives. On n'est pas étonné de voir une corrélation très forte entre la température réelle et ressentie (une des deux variables pourra être supprimée)"
   ]
  },
  {
   "cell_type": "markdown",
   "metadata": {
    "colab_type": "text",
    "id": "L1Nk6StR6K8S"
   },
   "source": [
    "### Variables catégorielles"
   ]
  },
  {
   "cell_type": "code",
   "execution_count": null,
   "metadata": {
    "colab": {},
    "colab_type": "code",
    "id": "-jU4kD7G6K8T",
    "outputId": "b15c33cb-521e-4bc4-abc3-49e382a14a23"
   },
   "outputs": [],
   "source": [
    "fig.set_size_inches(8,12)\n",
    "sns.boxplot(data=df, x=\"weather\",y=\"count\", palette=\"Set2\").set_title(\"Boxplot of count vs weather\")"
   ]
  },
  {
   "cell_type": "markdown",
   "metadata": {
    "colab_type": "text",
    "id": "QRzkZ8Ra6K8V"
   },
   "source": [
    "On peut constater :\n",
    "* que l'usage en temps dégagé ou nuageux est supérieur aux usages par temps plus maussade\n",
    "* des points atypiques quelque soit le temps"
   ]
  },
  {
   "cell_type": "code",
   "execution_count": null,
   "metadata": {
    "colab": {},
    "colab_type": "code",
    "id": "ZTWUnyHi6K8Y",
    "outputId": "3323b923-186b-4e74-bece-5901f1bc4ea8"
   },
   "outputs": [],
   "source": [
    "fig.set_size_inches(8,12)\n",
    "sns.boxplot(data=df, x=\"season\",y=\"count\", palette=\"Set2\").set_title(\"Boxplot of count vs season\")"
   ]
  },
  {
   "cell_type": "markdown",
   "metadata": {
    "colab_type": "text",
    "id": "kRJt9enZ6K8c"
   },
   "source": [
    "On retrouve une information déjà observée sur l'analyse des mois avec un usage plus important le printemps / été et des événements atypiques d'usage ponctuel"
   ]
  },
  {
   "cell_type": "code",
   "execution_count": null,
   "metadata": {
    "colab": {},
    "colab_type": "code",
    "id": "DpP4p8w_6K8d",
    "outputId": "d50bcc70-9962-43bf-cb17-b9a387389dd1"
   },
   "outputs": [],
   "source": [
    "fig.set_size_inches(8,12)\n",
    "sns.boxplot(data=df, x=\"workingday\",y=\"count\", palette=\"Set2\").set_title(\"Boxplot of count vs workingday\")"
   ]
  },
  {
   "cell_type": "markdown",
   "metadata": {
    "colab_type": "text",
    "id": "agQpcBMd6K8j"
   },
   "source": [
    "L'usage semble assez similaire entre un jour travaillé ou non. Néanmoins, on observe des points atypiques plus importants sur les jours travaillés."
   ]
  },
  {
   "cell_type": "code",
   "execution_count": null,
   "metadata": {
    "colab": {},
    "colab_type": "code",
    "id": "toYYF-yv6K8k",
    "outputId": "e0ee6879-8c56-4308-a5b9-45ddee211108"
   },
   "outputs": [],
   "source": [
    "fig.set_size_inches(8,12)\n",
    "sns.boxplot(data=df, x=\"holiday\",y=\"count\", palette=\"Set2\").set_title(\"Boxplot of count vs holiday\")"
   ]
  },
  {
   "cell_type": "markdown",
   "metadata": {
    "colab_type": "text",
    "id": "_KqpkmKQ6K8n"
   },
   "source": [
    "L'usage semble identique en vacances ou non. Beaucoup de points atypiques sur les plages horaires qui sont hors vacance. "
   ]
  },
  {
   "cell_type": "markdown",
   "metadata": {
    "colab_type": "text",
    "id": "__Q8PMnl6K8o"
   },
   "source": [
    "### Conclusion sur l'analyse bivariée\n",
    "\n",
    "La target est sensible : \n",
    "* à l'année en niveau\n",
    "* au mois et à la saison : on voit des saisonnalités\n",
    "* à l'heure de la journée : on voit aussi une variation forte\n",
    "* à la température, au taux d'humidité et dans une moindre mesure au vent"
   ]
  },
  {
   "cell_type": "markdown",
   "metadata": {
    "colab_type": "text",
    "id": "ptoewgST6K8p"
   },
   "source": [
    "## Analyse multivariée"
   ]
  },
  {
   "cell_type": "markdown",
   "metadata": {
    "colab_type": "text",
    "id": "ggXYBVq777fc"
   },
   "source": [
    "### Lien entre variables Temp, Humidity et Count"
   ]
  },
  {
   "cell_type": "code",
   "execution_count": null,
   "metadata": {
    "colab": {},
    "colab_type": "code",
    "id": "DkgC3IOO6K8q",
    "outputId": "008aa1fc-7155-4511-ae42-d7320b9562f1"
   },
   "outputs": [],
   "source": [
    "sns.relplot(x=\"temp\", y=\"humidity\", size=\"count\", sizes=(15, 100), data=df);"
   ]
  },
  {
   "cell_type": "markdown",
   "metadata": {
    "colab_type": "text",
    "id": "fkaS0XD46K8u"
   },
   "source": [
    "On peut observer que l'usage est dans la majorité plus grande lorsque la température est clémente (supérieure à 15°C) et que le taux d'humidité est inférieure à 60%"
   ]
  },
  {
   "cell_type": "markdown",
   "metadata": {
    "colab_type": "text",
    "id": "qMey1Bf28CG2"
   },
   "source": [
    "### Lien entre variables Hour, Workingday et Count"
   ]
  },
  {
   "cell_type": "code",
   "execution_count": null,
   "metadata": {
    "colab": {},
    "colab_type": "code",
    "id": "-zZ5ZfJV6K8v",
    "outputId": "f8621d92-3d12-4bc7-da7e-4d1ad8f0649d"
   },
   "outputs": [],
   "source": [
    "sns.catplot(x=\"hour\", y=\"count\", hue=\"workingday\",\n",
    "            kind=\"bar\",\n",
    "            data=df);"
   ]
  },
  {
   "cell_type": "markdown",
   "metadata": {
    "colab_type": "text",
    "id": "7QIjVN3_6K8z"
   },
   "source": [
    "On peut contrairement à l'analyse bivariée voir l'impact de la variable workingday où on a des comportements bien différents avec :\n",
    "* des pointes très marquées pour les jours travaillés (7/8h et 17 à 19h). \n",
    "* Par contre pour les jours non travaillés, on a un usage plus important entre 10h et 20h. \n",
    "* On peut aussi voir les intervalles de confiance qui semblent plutôt bons"
   ]
  },
  {
   "cell_type": "markdown",
   "metadata": {
    "colab_type": "text",
    "id": "gAHqPSiR8Mj6"
   },
   "source": [
    "### Lien entre variables Hour, Count, WorkingDay, Dayofweek"
   ]
  },
  {
   "cell_type": "code",
   "execution_count": null,
   "metadata": {
    "colab": {},
    "colab_type": "code",
    "id": "aXCQSDZp6K8z",
    "outputId": "1d3383ec-3dbc-455b-8316-2cd42bb38ae3"
   },
   "outputs": [],
   "source": [
    "sns.catplot(x=\"hour\", y=\"count\", hue=\"workingday\",\n",
    "            col=\"dayofweek\", aspect=.9,\n",
    "            kind=\"swarm\", data=df);"
   ]
  },
  {
   "cell_type": "markdown",
   "metadata": {
    "colab_type": "text",
    "id": "MAqBk6Wk6K81"
   },
   "source": [
    "On retrouve des fonctionnements différents entre les working day. On a des motifs assez similaires du lundi au vendredi lorsque ce sont des jours travaillés avec les pointes pour aller et sortir du travail (cela pourrait s'apparenter à une composition de gaussienne autour des deux pics). Le week-end expose un fonctionnement plus gaussien autour de 14h"
   ]
  },
  {
   "cell_type": "markdown",
   "metadata": {
    "colab_type": "text",
    "id": "lYpf6Plu8gKA"
   },
   "source": [
    "### Lien entre variable Hour, Count, et Season"
   ]
  },
  {
   "cell_type": "code",
   "execution_count": null,
   "metadata": {
    "colab": {},
    "colab_type": "code",
    "id": "J75oaZc76K83",
    "outputId": "7735e9d4-be7d-4dc4-b910-c8829f1dc8eb"
   },
   "outputs": [],
   "source": [
    "sns.pointplot(x=\"hour\", y=\"count\", hue=\"season\", join=True, data=df);"
   ]
  },
  {
   "cell_type": "markdown",
   "metadata": {
    "colab_type": "text",
    "id": "MCMD1T7h6K85"
   },
   "source": [
    "On retrouve la saisonnalité intrajournalière avec des niveaux différents suivant les saisons avec une différence forte entre le printemps (location moindre) et les autres saisons"
   ]
  },
  {
   "cell_type": "markdown",
   "metadata": {
    "colab_type": "text",
    "id": "gt6LuI3r6K86"
   },
   "source": [
    "### Conclusion sur l'analyse multivariée\n",
    "\n",
    "La target est sensible : \n",
    "* à des seuils de température et d'humidité\n",
    "* à la variable workingday avec des fonctionnements différenciés en intraday"
   ]
  },
  {
   "cell_type": "markdown",
   "metadata": {
    "colab_type": "text",
    "id": "G06HTgij6K86"
   },
   "source": [
    "# Preprocessing pour scikit-learn¶"
   ]
  },
  {
   "cell_type": "code",
   "execution_count": null,
   "metadata": {
    "colab": {},
    "colab_type": "code",
    "id": "kMM1rSW96K87",
    "outputId": "4b879128-3df3-442f-a12f-efa968d976fd"
   },
   "outputs": [],
   "source": [
    "df.info()"
   ]
  },
  {
   "cell_type": "markdown",
   "metadata": {
    "colab_type": "text",
    "id": "3YAKJ5_w6K89"
   },
   "source": [
    "## Construction des ensembles X et y à partir du dataframe"
   ]
  },
  {
   "cell_type": "markdown",
   "metadata": {
    "colab_type": "text",
    "id": "wriVcsZv6K8-"
   },
   "source": [
    "Pour notre ensemble de variables explicatives, on supprime datetime, atemp (de part sa corrélation avec temp), count (qui est la target) et on garde l'ensemble des données générées à partir des plages horaires. Dans la variable à expliquer, on a count. On a supprimé aussi la variable season par la suite car elle doit avoir des corrélations très fortes avec Mois et rend les coefficients de la régression linéaire peu interprétables si on la garde"
   ]
  },
  {
   "cell_type": "code",
   "execution_count": null,
   "metadata": {
    "colab": {},
    "colab_type": "code",
    "id": "Zmdt31oC6K8-",
    "outputId": "55fb9487-6e83-42c5-f375-6ba2af4db1c8"
   },
   "outputs": [],
   "source": [
    "X = df.drop([\"atemp\", \"count\",\"datetime\",\"season\"], axis = 1)\n",
    "y = df[\"count\"]\n",
    "print(f\"Shape de X : {X.shape}\")\n",
    "print(f\"Shape de y : {y.shape}\")\n",
    "X.head(5)"
   ]
  },
  {
   "cell_type": "markdown",
   "metadata": {
    "colab_type": "text",
    "id": "Ft3p3n8M6K9B"
   },
   "source": [
    "## Preprocessing sur les variables catégorielles"
   ]
  },
  {
   "cell_type": "code",
   "execution_count": null,
   "metadata": {
    "colab": {},
    "colab_type": "code",
    "id": "siVLYZ5-6K9D",
    "outputId": "10ebb503-7fc6-4718-95e6-cfd49985b2c4"
   },
   "outputs": [],
   "source": [
    "categorical_features = X.columns[X.dtypes == \"category\"].tolist()\n",
    "print(categorical_features)"
   ]
  },
  {
   "cell_type": "markdown",
   "metadata": {
    "colab_type": "text",
    "id": "4QNYXeBZ6K9F"
   },
   "source": [
    "Scikit-learn ne reconnait pas les objets de type DataFrame directement, notamment les types catégoriels. Il faut donc préparer nos données afin que les méthodes de scikit-learn puissent les interpréter. Scikit learn requiert un encodage numérique des ces variables. Nous allons donc devoir encoder nos variables explicatives catégorielles à l'aide de variables indicatrices."
   ]
  },
  {
   "cell_type": "code",
   "execution_count": null,
   "metadata": {
    "colab": {},
    "colab_type": "code",
    "id": "U0hqm-QV6K9G",
    "outputId": "3b1cd01c-57be-420a-eac7-d98444d9f1ae",
    "scrolled": true
   },
   "outputs": [],
   "source": [
    "df_dummies =  pd.get_dummies(X[categorical_features], drop_first=True)\n",
    "X = pd.concat([X.drop(categorical_features, axis=1), df_dummies], axis=1)\n",
    "X.head(5)"
   ]
  },
  {
   "cell_type": "markdown",
   "metadata": {},
   "source": [
    "J'avais essayé d'utiliser OneHotEncoder pour faire la dummificationet combiner avec un pipe pour la standardisation mais cela n'a pas fonctionné comme je le souhaitais. Je suis resté à la méthode plus artisanale de dummification via Panda"
   ]
  },
  {
   "cell_type": "code",
   "execution_count": null,
   "metadata": {
    "colab": {},
    "colab_type": "code",
    "id": "x1DwPdA86K9I"
   },
   "outputs": [],
   "source": [
    "#from sklearn.preprocessing import OneHotEncoder\n",
    "#enc = OneHotEncoder(sparse =False)\n",
    "#enc.fit(X)\n",
    "#X = enc.transform(X)\n",
    "#X"
   ]
  },
  {
   "cell_type": "markdown",
   "metadata": {
    "colab_type": "text",
    "id": "NYugeEYv6K9N"
   },
   "source": [
    "## Train, Test\n",
    "\n",
    "Nous utilisons scikit-learn pour faire le traitement et étant donné la volumétrie du jeu de données, nous allons prendre 80% pour le train et 20% pour le test"
   ]
  },
  {
   "cell_type": "code",
   "execution_count": null,
   "metadata": {
    "colab": {},
    "colab_type": "code",
    "id": "L2GJmOIg6K9N",
    "outputId": "90d7e0dc-b1ca-4628-cd55-cd2a78fe4781"
   },
   "outputs": [],
   "source": [
    "from sklearn.model_selection import train_test_split\n",
    "X_train, X_test, y_train, y_test = train_test_split(X, y, test_size=0.2, random_state=777)\n",
    "print(f\"Shape du X_train : {X_train.shape}\")\n",
    "print(f\"Shape du y_train : {y_train.shape}\")\n",
    "print(f\"Shape du X_test : {X_test.shape}\")\n",
    "print(f\"Shape du y_test : {y_test.shape}\")"
   ]
  },
  {
   "cell_type": "markdown",
   "metadata": {
    "colab_type": "text",
    "id": "vRgqIV8j6K9Q"
   },
   "source": [
    "## Preprocessing sur les variables numériques"
   ]
  },
  {
   "cell_type": "code",
   "execution_count": null,
   "metadata": {
    "colab": {},
    "colab_type": "code",
    "id": "w1CVMQiu6K9Q",
    "outputId": "94df0d52-7afd-40da-d0bc-5703f3f61715"
   },
   "outputs": [],
   "source": [
    "numerical_features = df.columns[(df.dtypes == \"int64\")].tolist() + df.columns[(df.dtypes == \"float64\")].tolist()\n",
    "print(numerical_features)\n"
   ]
  },
  {
   "cell_type": "markdown",
   "metadata": {
    "colab_type": "text",
    "id": "o5JZhwsQ6K9T"
   },
   "source": [
    "Certaines méthodes d'apprentissage sont sensibles aux problèmes d'échelle sur les valeurs numériques. En preprocessing, on standardise les variables numériques en retranchant leur moyenne et en divisant par l'écart type via Scikit-learn. On réalise ce traitement sur l'ensemble d'apprentissage et on applique cette standardisation sur l'ensemble de test."
   ]
  },
  {
   "cell_type": "code",
   "execution_count": null,
   "metadata": {
    "colab": {},
    "colab_type": "code",
    "id": "IoDUKHkt6K9T"
   },
   "outputs": [],
   "source": [
    "from sklearn.preprocessing import StandardScaler\n",
    "scaler = StandardScaler()\n",
    "\n",
    "X_train_scaled = scaler.fit_transform(X_train)\n",
    "X_test_scaled = scaler.transform(X_test)\n",
    "\n",
    "#scaled_numeric = scaler.fit_transform(df[numerical_features])\n",
    "#df_numeric = pd.DataFrame(scaled_numeric,columns=numerical_features)"
   ]
  },
  {
   "cell_type": "markdown",
   "metadata": {
    "colab_type": "text",
    "id": "5A3tksWS6K9W"
   },
   "source": [
    "# Un modèle simple : la régression linéaire\n",
    "\n",
    "Un premier modèle qui nous servira de *baseline*.\n",
    "\n",
    "Nous allons aussi introduire l'imputation sur les données sur les données *train*, que nous appliquerons **ENSUITE** sur les données *test*.\n",
    "\n",
    "## Modèle de regression sur Train/Test\n",
    "$$y =\\sum_{i=1}^{n} a_i \\times x_i + b$$"
   ]
  },
  {
   "cell_type": "code",
   "execution_count": null,
   "metadata": {
    "colab": {},
    "colab_type": "code",
    "id": "MqUNDlP_6K9X",
    "outputId": "9739aec5-4333-4356-fde6-af96c0d22a80"
   },
   "outputs": [],
   "source": [
    "from sklearn import linear_model\n",
    "reg = linear_model.LinearRegression()\n",
    "\n",
    "reg.fit(X_train_scaled, y_train)\n",
    "y_trainPred = reg.predict(X_train_scaled)\n",
    "y_testPred = reg.predict(X_test_scaled)\n",
    "print(f\"Score sur le train : {reg.score(X_train_scaled,y_train)}\")\n",
    "print(f\"Score sur le test : {reg.score(X_test_scaled,y_test)}\")"
   ]
  },
  {
   "cell_type": "markdown",
   "metadata": {
    "colab_type": "text",
    "id": "UQiCkk_j6K9Z"
   },
   "source": [
    "## Coefficients de la régression linéaire\n",
    "\n",
    "Un des avantages de la régression linéaire est que nous pouvons obtenir les coefficients associés à chacune des variables. Nous pouvons voir les coefficients qui ont un impact sur le nombre de vélos loués.\n",
    "\n",
    "Regardons ces coefficients :"
   ]
  },
  {
   "cell_type": "code",
   "execution_count": null,
   "metadata": {
    "colab": {},
    "colab_type": "code",
    "id": "1aMQzKWG6K9Z",
    "outputId": "8b792280-1135-401a-e0e3-3ed0446a4839"
   },
   "outputs": [],
   "source": [
    "coefficients = pd.Series(reg.coef_.flatten(), index=X.columns).sort_values(ascending=False)\n",
    "coefficients"
   ]
  },
  {
   "cell_type": "code",
   "execution_count": null,
   "metadata": {
    "colab": {},
    "colab_type": "code",
    "id": "0-FlFKAr6K9b",
    "outputId": "aee8d29f-f881-459c-a56c-e9671e0dff38"
   },
   "outputs": [],
   "source": [
    "print(f\"ordonnee à l'origine : {reg.intercept_}\")"
   ]
  },
  {
   "cell_type": "code",
   "execution_count": null,
   "metadata": {
    "colab": {},
    "colab_type": "code",
    "id": "4fHth74q6K9d",
    "outputId": "18813ca5-104f-4d8f-b78d-a715495d9097"
   },
   "outputs": [],
   "source": [
    "coefficients[np.abs(coefficients)>10].plot(kind=\"bar\")\n",
    "plt.title(\"Regression lineaire coefficient\")\n",
    "plt.ylabel(\"Coefficient value\")\n",
    "plt.show()"
   ]
  },
  {
   "cell_type": "markdown",
   "metadata": {
    "colab_type": "text",
    "id": "MPpyUAol6K9i"
   },
   "source": [
    "Pour arriver à des coefficients interprétables, on a enlevé la colinéarité entre les variables :\n",
    "* en faisant une dummification à n-1 modalités\n",
    "* de manière empirique en enlevant la saison qui doit être fortement corrélée avec les mois\n",
    "\n",
    "On observe en cohérence avec notre exploration que la location à travers une régression linéaire est :\n",
    "* très fortement liée aux heures importantes de la journée (les pics), \n",
    "* la variable year_2012 doit jouer sur le niveau\n",
    "* la température\n",
    "* les mois dans une moindre mesure\n",
    "* de manière négative l'humidité et un temps pluvieux ou neige "
   ]
  },
  {
   "cell_type": "markdown",
   "metadata": {
    "colab_type": "text",
    "id": "MHBss3WB6K9i"
   },
   "source": [
    "## Evaluation de la régression avec différentes métriques\n",
    "\n",
    "Nous allons regarder quelques métriques associées aux problématiques de régression :\n",
    "* L'erreur maximum entre la prédiction et la réalité\n",
    "* La moyenne des erreurs absolus entre la prédiction et la réalité\n",
    "* La moyenne des erreurs au carré entre la prédiction et la réalité (MSE)\n",
    "* Le score R2 qui est le coefficient de détermination en comparant MSE et la variance. Fonction renvoyée par la méthode score de Scikit Learn"
   ]
  },
  {
   "cell_type": "code",
   "execution_count": null,
   "metadata": {
    "colab": {},
    "colab_type": "code",
    "id": "VchNswW36K9i"
   },
   "outputs": [],
   "source": [
    "from sklearn import metrics\n",
    "\n",
    "\n",
    "def regression_metrics(y, y_pred):\n",
    "    return pd.DataFrame(\n",
    "        {\n",
    "            \"max_error\": metrics.max_error(y_true=y, y_pred=y_pred),\n",
    "            \"mean_absolute_error\": metrics.mean_absolute_error(y_true=y, y_pred=y_pred),\n",
    "            \"mean_squared_error\": metrics.mean_squared_error(y_true=y, y_pred=y_pred),\n",
    "            \"r2_score\": metrics.r2_score(y_true=y, y_pred=y_pred)\n",
    "        },\n",
    "        index=[0])"
   ]
  },
  {
   "cell_type": "code",
   "execution_count": null,
   "metadata": {
    "colab": {},
    "colab_type": "code",
    "id": "XKCpMDNQ6K9p",
    "outputId": "e15df173-7691-47bb-e708-a6a2ee93413a"
   },
   "outputs": [],
   "source": [
    "print(\"Regression metrics for train data\")\n",
    "print(regression_metrics(y_train, y_trainPred))\n",
    "print(\"Regression metrics for test data\")\n",
    "print(regression_metrics(y_test, y_testPred))"
   ]
  },
  {
   "cell_type": "code",
   "execution_count": null,
   "metadata": {
    "colab": {},
    "colab_type": "code",
    "id": "MS3R1_i_6K9q",
    "outputId": "ffcea7c2-5a3b-433d-945b-6e7855d5b66a",
    "scrolled": true
   },
   "outputs": [],
   "source": [
    "pd.concat(\n",
    "    [\n",
    "        regression_metrics(y_train, y_trainPred).T[0].rename(\"train\"),\n",
    "        regression_metrics(y_test, y_testPred).T[0].rename(\"test\")\n",
    "    ],\n",
    "    axis=1).plot(kind=\"bar\")\n",
    "plt.title(\"Regression metrics\")\n",
    "plt.ylabel(\"Metric\")\n",
    "plt.show()"
   ]
  },
  {
   "cell_type": "markdown",
   "metadata": {
    "colab_type": "text",
    "id": "U1QOHL-q6K9s"
   },
   "source": [
    "Il n'y a pas d'overfitting et d'underfitting et on a une qualité de la regression linéaire qui prédit très moyennement la location de vélo. Les modèles linéaires ne modélisent pas bien la série temporelle de location horaire de vélos"
   ]
  },
  {
   "cell_type": "markdown",
   "metadata": {},
   "source": [
    "# Arbre de décision et visions ensemblistes"
   ]
  },
  {
   "cell_type": "markdown",
   "metadata": {},
   "source": [
    "## Arbre de décision"
   ]
  },
  {
   "cell_type": "code",
   "execution_count": null,
   "metadata": {},
   "outputs": [],
   "source": [
    "from sklearn.tree import DecisionTreeRegressor\n",
    "decisionTree = DecisionTreeRegressor()\n",
    "decisionTree.fit(X_train_scaled, y_train)\n",
    "y_trainPred = decisionTree.predict(X_train_scaled)\n",
    "y_testPred = decisionTree.predict(X_test_scaled)\n",
    "print(f\"Score sur le train de l'arbre de décision : {decisionTree.score(X_train_scaled,y_train)}\")\n",
    "print(f\"Score sur le test de l'arbre de décision : {decisionTree.score(X_test_scaled,y_test)}\")\n"
   ]
  },
  {
   "cell_type": "code",
   "execution_count": null,
   "metadata": {},
   "outputs": [],
   "source": [
    "print(\"Regression metrics with Decision Tree for train data\")\n",
    "print(regression_metrics(y_train, y_trainPred))\n",
    "print(\"Regression metrics with Decision Tree for test data\")\n",
    "print(regression_metrics(y_test, y_testPred))"
   ]
  },
  {
   "cell_type": "markdown",
   "metadata": {},
   "source": [
    "On est dans un cas de surapprentissage puisque l'arbre de décision \"fit\" complètement à l'ensemble de train mais ne se généralise pas bien sur l'ensemble de test. Néanmoins la performance est tout de même meilleure que la régression linéaire"
   ]
  },
  {
   "cell_type": "code",
   "execution_count": null,
   "metadata": {},
   "outputs": [],
   "source": [
    "print(\"Feature importances : \\n{}\".format(decisionTree.feature_importances_))"
   ]
  },
  {
   "cell_type": "code",
   "execution_count": null,
   "metadata": {},
   "outputs": [],
   "source": [
    "def plot_feature_importances(model):\n",
    "    n_features = X.shape[1]\n",
    "    plt.barh(range(n_features), model.feature_importances_, align = 'center')\n",
    "    plt.yticks(np.arange(n_features), X.columns)\n",
    "    plt.xlabel(\"Feature Importance\")\n",
    "    plt.ylabel(\"Feature\")\n",
    "    plt.ylim(-1,n_features)"
   ]
  },
  {
   "cell_type": "code",
   "execution_count": null,
   "metadata": {},
   "outputs": [],
   "source": [
    "plot_feature_importances(decisionTree)"
   ]
  },
  {
   "cell_type": "markdown",
   "metadata": {},
   "source": [
    "On ne voit pas véritablement les features importantes dans la régression réalisée sur l'arbre aux vues de la dimension de nos variables explicatives. On va filtrer les valeurs supérieures à 0.03 pour identifier les variables qui ont un poids dans la prédiction de la cible"
   ]
  },
  {
   "cell_type": "code",
   "execution_count": null,
   "metadata": {},
   "outputs": [],
   "source": [
    "featuresImportance = pd.Series(decisionTree.feature_importances_.flatten(), index=X.columns).sort_values(ascending=False)\n",
    "featuresImportance[(featuresImportance)>0.03].plot(kind=\"bar\")\n",
    "plt.title(\"Feature\")\n",
    "plt.ylabel(\"Feature Importance\")\n",
    "plt.show()"
   ]
  },
  {
   "cell_type": "markdown",
   "metadata": {},
   "source": [
    "On retrouve des éléments par rapport à l'analyse exploratoire avec une importance donnée à la température, l'humidité, le fait de travailler ou non (fonctionnement différent), les heures de pointes et l'année."
   ]
  },
  {
   "cell_type": "code",
   "execution_count": null,
   "metadata": {},
   "outputs": [],
   "source": [
    "for depth in range(5,20):\n",
    "    decisionTreeMaxDepth = DecisionTreeRegressor(max_depth=depth)\n",
    "    decisionTreeMaxDepth.fit(X_train_scaled, y_train)\n",
    "    print(f\"Max depth : {depth}\")\n",
    "    print(f\"Score sur le train de l'arbre de décision : {decisionTreeMaxDepth.score(X_train_scaled,y_train)}\")\n",
    "    print(f\"Score sur le test de l'arbre de décision : {decisionTreeMaxDepth.score(X_test_scaled,y_test)}\")"
   ]
  },
  {
   "cell_type": "markdown",
   "metadata": {},
   "source": [
    "On observe assez vite le surapprentissage lorsqu'on augmente la profondeur de l'arbre\n",
    "\n",
    "Avantages : \n",
    "* On peut contrôler la complexité de l'arbre en jouant sur des paramètres avec la prondeur ou des stratégies d'élagage\n",
    "* Interprétabilité des décisions\n",
    "* Pas de problématique de prise en compte des échelles différentes entre les variables (même si dans notre cas, nous travaillons sur des données standardisées)\n",
    "\n",
    "Inconvénient majeur :\n",
    "* Même en jouant sur la complexité de l'arbre, un arbre tend au surapprentissage et fournit de piètre performance de généralisation"
   ]
  },
  {
   "cell_type": "markdown",
   "metadata": {},
   "source": [
    "## Random Forest"
   ]
  },
  {
   "cell_type": "code",
   "execution_count": null,
   "metadata": {},
   "outputs": [],
   "source": [
    "from sklearn.ensemble import RandomForestRegressor\n",
    "nbTree = 100\n",
    "print(f\"Nombre d'arbres considérés : {nbTree}\")\n",
    "for depth in [5,10,15,20,30, 40]:\n",
    "    randomForest = RandomForestRegressor(n_estimators=nbTree, random_state=2, max_depth=depth)\n",
    "    randomForest.fit(X_train_scaled, y_train)\n",
    "    print(f\"--- Max depth : {depth}\")\n",
    "    print(f\"---------Score sur le train avec RandomForest : {randomForest.score(X_train_scaled,y_train)}\")\n",
    "    print(f\"---------Score sur le test avec RandomForest : {randomForest.score(X_test_scaled,y_test)}\")"
   ]
  },
  {
   "cell_type": "markdown",
   "metadata": {},
   "source": [
    "On observe avec Random Forest une amélioration du score fonction de la profondeur considérées avec un surapprentissage si celle-ci devient importante. Dans le cas actuel, une profondeur de 15 semble cohérente"
   ]
  },
  {
   "cell_type": "markdown",
   "metadata": {},
   "source": [
    "## GridSearch et Validation croisée\n",
    "\n",
    "Nous allons creuser un peu plus loin afin d'améliorer RandomForest en optimisant les hyperparamètres du modèle. Pour ce faire nous allons procéder par validation croisée avec 5 plis sur l'ensemble d'apprentissage. \n",
    "A l'aide de celle-ci, nous allons chercher quel(s) paramètre(s) nous donne(nt) le meilleur score et enfin nous évaluerons la qualité du modèle sur le jeu de données test.\n",
    "\n",
    "Les paramètres que nous allons chercher à optimiser dans RandomForest sont :\n",
    "* le paramètre max_depth qui correspond à la profondeur de l'arbre \n",
    "* le nombre d'arbres à considérer dans la forêt\n",
    "* le nombre de features maximale à considérer"
   ]
  },
  {
   "cell_type": "code",
   "execution_count": null,
   "metadata": {},
   "outputs": [],
   "source": [
    "from sklearn.model_selection import GridSearchCV\n",
    "# grille de valeurs\n",
    "params = [{\"max_depth\": [10,15,20], \"n_estimators\": [100,200,300,500], \"max_features\": [12, 15, 20, 25]}]\n",
    "\n",
    "gridSearchCV = GridSearchCV(\n",
    "    RandomForestRegressor(),\n",
    "    params,\n",
    "    cv=5,\n",
    "    n_jobs=-1,\n",
    "    return_train_score=True)\n",
    "gridSearchCV.fit(X_train_scaled, y_train)"
   ]
  },
  {
   "cell_type": "code",
   "execution_count": null,
   "metadata": {},
   "outputs": [],
   "source": [
    "print(\"Score sur le test : {:.2f}\".format(gridSearchCV.score(X_test_scaled,y_test)))"
   ]
  },
  {
   "cell_type": "code",
   "execution_count": null,
   "metadata": {},
   "outputs": [],
   "source": [
    "print(\"Best parameters : {}\".format(gridSearchCV.best_params_))\n",
    "print(\"Best cross-validation score : {:.2f}\".format(gridSearchCV.best_score_))"
   ]
  },
  {
   "cell_type": "code",
   "execution_count": null,
   "metadata": {},
   "outputs": [],
   "source": [
    "print(\"Best estimator:\\n{}\".format(gridSearchCV.best_estimator_))"
   ]
  },
  {
   "cell_type": "code",
   "execution_count": null,
   "metadata": {},
   "outputs": [],
   "source": [
    "plot_feature_importances(gridSearchCV.best_estimator_)"
   ]
  },
  {
   "cell_type": "code",
   "execution_count": null,
   "metadata": {},
   "outputs": [],
   "source": [
    "featuresImportance = pd.Series(gridSearchCV.best_estimator_.feature_importances_.flatten(), index=X.columns).sort_values(ascending=False)\n",
    "featuresImportance[(featuresImportance)>0.03].plot(kind=\"bar\")\n",
    "plt.title(\"Feature\")\n",
    "plt.ylabel(\"Feature Importance\")\n",
    "plt.show()"
   ]
  },
  {
   "cell_type": "markdown",
   "metadata": {},
   "source": [
    "A travers une validation croisée et un grid search, on obtient un paramétrage via Random Forest et on peut visualiser les variables qui ont de l'importance. On retrouve des variables explicatives en lien avec notre analyse exploratoire. On est aussi dans un cas où il n'y a pas de surapprentissage. "
   ]
  },
  {
   "cell_type": "code",
   "execution_count": null,
   "metadata": {},
   "outputs": [],
   "source": [
    "y_testPred = gridSearchCV.best_estimator_.predict(X_test_scaled)\n",
    "print(\"Regression metrics pour la forêt aléatoire optimisée for test data\")\n",
    "print(regression_metrics(y_test, y_testPred))"
   ]
  },
  {
   "cell_type": "markdown",
   "metadata": {},
   "source": [
    "# Conclusion\n",
    "\n",
    "## Sur le travail réalisé\n",
    "* L'analyse univariée et multivariée ont permis de mettre en évidence des liens entre les variables explicatives et à expliquer\n",
    "* Le featuring Ingeenering a été un travail réalisé sur les dates pour essayer de voir les liens avec la variable à prédire.\n",
    "* Les modèles linéaires ne se comportent pas très bien car le comportement de la série temporelle n'est pas linéaire.\n",
    "* Un modèle basé sur des arbres de décision permet d'obtenir des meilleurs résultats par rapport à la regression linéaire. Une optimisation des paramètres a pu être mise en oeuvre via validation croisée et grille de recherche\n",
    "\n",
    "## Sur les perspectives\n",
    "* Sur le code : la mise en place de Pipe avec l'utilisation de OneHotEncoder et StandardScaler.\n",
    "* Sur les modèles : tester d'autres modèles pour améliorer la prévision. On peut penser à une régression polynomiale ou boosting d'arbres de régression, ou des modèles traitant spécifiquement de séries temporelles.\n",
    "* Un traitement des points atypiques pourrait peut-être aussi améliorer les prédictions."
   ]
  }
 ],
 "metadata": {
  "accelerator": "GPU",
  "colab": {
   "include_colab_link": true,
   "name": "project_bicycle.ipynb",
   "provenance": [],
   "toc_visible": true
  },
  "kernelspec": {
   "display_name": "Python 3",
   "language": "python",
   "name": "python3"
  },
  "language_info": {
   "codemirror_mode": {
    "name": "ipython",
    "version": 3
   },
   "file_extension": ".py",
   "mimetype": "text/x-python",
   "name": "python",
   "nbconvert_exporter": "python",
   "pygments_lexer": "ipython3",
   "version": "3.7.4"
  },
  "toc": {
   "colors": {
    "hover_highlight": "#DAA520",
    "running_highlight": "#FF0000",
    "selected_highlight": "#FFD700"
   },
   "moveMenuLeft": true,
   "nav_menu": {
    "height": "30px",
    "width": "252px"
   },
   "navigate_menu": true,
   "number_sections": true,
   "sideBar": true,
   "threshold": 4,
   "toc_cell": false,
   "toc_section_display": "block",
   "toc_window_display": false,
   "widenNotebook": false
  }
 },
 "nbformat": 4,
 "nbformat_minor": 1
}
